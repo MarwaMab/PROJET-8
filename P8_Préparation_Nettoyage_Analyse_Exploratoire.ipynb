{
  "nbformat": 4,
  "nbformat_minor": 0,
  "metadata": {
    "colab": {
      "provenance": []
    },
    "kernelspec": {
      "name": "python3",
      "display_name": "Python 3"
    },
    "language_info": {
      "name": "python"
    }
  },
  "cells": [
    {
      "cell_type": "markdown",
      "source": [
        "# Etape 1: Importation des librairies et chargement des fichiers"
      ],
      "metadata": {
        "id": "PnjYKiqLCk18"
      }
    },
    {
      "cell_type": "markdown",
      "source": [
        "1-1 Importation des librairies"
      ],
      "metadata": {
        "id": "ZitTVa1MDHIc"
      }
    },
    {
      "cell_type": "code",
      "execution_count": 1,
      "metadata": {
        "id": "EvGhCTJMe-jU"
      },
      "outputs": [],
      "source": [
        "import pandas as pd"
      ]
    },
    {
      "cell_type": "markdown",
      "source": [
        "1-2 Chargement des fichiers"
      ],
      "metadata": {
        "id": "3wbGGzM7Dh2t"
      }
    },
    {
      "cell_type": "code",
      "source": [
        "population = pd.read_csv(\"/content/Population 2021.csv\")"
      ],
      "metadata": {
        "id": "Vey0_iauA3PE"
      },
      "execution_count": 2,
      "outputs": []
    },
    {
      "cell_type": "code",
      "source": [
        "stabilité_politique= pd.read_csv(\"/content/Stabilité_politique_2021.csv\")"
      ],
      "metadata": {
        "id": "1knsrN9tBV2o"
      },
      "execution_count": 3,
      "outputs": []
    },
    {
      "cell_type": "code",
      "source": [
        "dispo_alimentaire = pd.read_csv(\"/content/Dispo_alimentaire_2021.csv\")"
      ],
      "metadata": {
        "id": "BzQITmYTBpdA"
      },
      "execution_count": 4,
      "outputs": []
    },
    {
      "cell_type": "code",
      "source": [
        "importation_exportation= pd.read_csv(\"/content/Importation_exportation_2021.csv\")"
      ],
      "metadata": {
        "id": "GOKL-4JlHde7"
      },
      "execution_count": 5,
      "outputs": []
    },
    {
      "cell_type": "markdown",
      "source": [
        "# Etape 2: Analyse exploratoire"
      ],
      "metadata": {
        "id": "HrTdwvwsD4W-"
      }
    },
    {
      "cell_type": "markdown",
      "source": [
        "2-1: Analyse exploratoire de fichier population"
      ],
      "metadata": {
        "id": "Wd_DeMb4EHJ5"
      }
    },
    {
      "cell_type": "code",
      "source": [
        "# Afficher les premieres lignes de  fichier population\n",
        "print(population.head())"
      ],
      "metadata": {
        "colab": {
          "base_uri": "https://localhost:8080/"
        },
        "id": "RFR-5A7xCH2p",
        "outputId": "9af1d276-8209-42ba-c2f8-29c1c73ba65d"
      },
      "execution_count": 6,
      "outputs": [
        {
          "output_type": "stream",
          "name": "stdout",
          "text": [
            "  Code Domaine                       Domaine  Code zone (M49)            Zone  \\\n",
            "0           OA  Séries temporelles annuelles                4     Afghanistan   \n",
            "1           OA  Séries temporelles annuelles              710  Afrique du Sud   \n",
            "2           OA  Séries temporelles annuelles                8         Albanie   \n",
            "3           OA  Séries temporelles annuelles               12         Algérie   \n",
            "4           OA  Séries temporelles annuelles              276       Allemagne   \n",
            "\n",
            "   Code Élément            Élément  Code Produit                 Produit  \\\n",
            "0           511  Population totale          3010  Population-Estimations   \n",
            "1           511  Population totale          3010  Population-Estimations   \n",
            "2           511  Population totale          3010  Population-Estimations   \n",
            "3           511  Population totale          3010  Population-Estimations   \n",
            "4           511  Population totale          3010  Population-Estimations   \n",
            "\n",
            "   Code année  Année           Unité     Valeur Symbole  \\\n",
            "0        2021   2021  1000 personnes  40099.462       X   \n",
            "1        2021   2021  1000 personnes  59392.255       X   \n",
            "2        2021   2021  1000 personnes   2854.710       X   \n",
            "3        2021   2021  1000 personnes  44177.969       X   \n",
            "4        2021   2021  1000 personnes  83408.554       X   \n",
            "\n",
            "              Description du Symbole  Note  \n",
            "0  Ciffre de sources internationales   NaN  \n",
            "1  Ciffre de sources internationales   NaN  \n",
            "2  Ciffre de sources internationales   NaN  \n",
            "3  Ciffre de sources internationales   NaN  \n",
            "4  Ciffre de sources internationales   NaN  \n"
          ]
        }
      ]
    },
    {
      "cell_type": "code",
      "source": [
        "# Suppression des colonnes inutile\n",
        "# Liste des colonnes à supprimer\n",
        "colonne_a_supprimer_population = ['Code Domaine','Domaine','Code Élément','Élément','Code Produit','Produit','Code année','Année','Symbole','Description du Symbole','Note']"
      ],
      "metadata": {
        "id": "GygAN69xcUBI"
      },
      "execution_count": 7,
      "outputs": []
    },
    {
      "cell_type": "code",
      "source": [
        "# Suppression des colonnes\n",
        "population_2021 = population.drop(columns=colonne_a_supprimer_population)\n",
        "print(population_2021.head())"
      ],
      "metadata": {
        "colab": {
          "base_uri": "https://localhost:8080/"
        },
        "id": "d3zW2Lccdpvk",
        "outputId": "0e496ec8-2312-417c-cc34-a95029da23f9"
      },
      "execution_count": 8,
      "outputs": [
        {
          "output_type": "stream",
          "name": "stdout",
          "text": [
            "   Code zone (M49)            Zone           Unité     Valeur\n",
            "0                4     Afghanistan  1000 personnes  40099.462\n",
            "1              710  Afrique du Sud  1000 personnes  59392.255\n",
            "2                8         Albanie  1000 personnes   2854.710\n",
            "3               12         Algérie  1000 personnes  44177.969\n",
            "4              276       Allemagne  1000 personnes  83408.554\n"
          ]
        }
      ]
    },
    {
      "cell_type": "code",
      "source": [
        "# Multiplier la valeur * Unité\n",
        "population_2021['Valeur']= population_2021['Valeur'] * 1000"
      ],
      "metadata": {
        "id": "Lv5mxE_DgtDq"
      },
      "execution_count": 9,
      "outputs": []
    },
    {
      "cell_type": "code",
      "source": [
        "# Suppression de la colonne Unité\n",
        "population_2021 = population_2021.drop(columns=['Unité'])"
      ],
      "metadata": {
        "id": "GtMi5JdahD7_"
      },
      "execution_count": 10,
      "outputs": []
    },
    {
      "cell_type": "code",
      "source": [
        "# Renommer la colonne valeur par population totale\n",
        "population_2021 = population_2021.rename(columns={'Valeur': 'Population totale'})"
      ],
      "metadata": {
        "id": "yE8Qs-CFjdS_"
      },
      "execution_count": 11,
      "outputs": []
    },
    {
      "cell_type": "code",
      "source": [
        "population_2021.head()"
      ],
      "metadata": {
        "colab": {
          "base_uri": "https://localhost:8080/",
          "height": 206
        },
        "id": "-Jbg74DFi87F",
        "outputId": "5988ca8b-5c0f-4a89-c32d-6812f6f7ba44"
      },
      "execution_count": 12,
      "outputs": [
        {
          "output_type": "execute_result",
          "data": {
            "text/plain": [
              "   Code zone (M49)            Zone  Population totale\n",
              "0                4     Afghanistan         40099462.0\n",
              "1              710  Afrique du Sud         59392255.0\n",
              "2                8         Albanie          2854710.0\n",
              "3               12         Algérie         44177969.0\n",
              "4              276       Allemagne         83408554.0"
            ],
            "text/html": [
              "\n",
              "  <div id=\"df-a1756c34-42b5-4576-97d6-a6d20a488710\" class=\"colab-df-container\">\n",
              "    <div>\n",
              "<style scoped>\n",
              "    .dataframe tbody tr th:only-of-type {\n",
              "        vertical-align: middle;\n",
              "    }\n",
              "\n",
              "    .dataframe tbody tr th {\n",
              "        vertical-align: top;\n",
              "    }\n",
              "\n",
              "    .dataframe thead th {\n",
              "        text-align: right;\n",
              "    }\n",
              "</style>\n",
              "<table border=\"1\" class=\"dataframe\">\n",
              "  <thead>\n",
              "    <tr style=\"text-align: right;\">\n",
              "      <th></th>\n",
              "      <th>Code zone (M49)</th>\n",
              "      <th>Zone</th>\n",
              "      <th>Population totale</th>\n",
              "    </tr>\n",
              "  </thead>\n",
              "  <tbody>\n",
              "    <tr>\n",
              "      <th>0</th>\n",
              "      <td>4</td>\n",
              "      <td>Afghanistan</td>\n",
              "      <td>40099462.0</td>\n",
              "    </tr>\n",
              "    <tr>\n",
              "      <th>1</th>\n",
              "      <td>710</td>\n",
              "      <td>Afrique du Sud</td>\n",
              "      <td>59392255.0</td>\n",
              "    </tr>\n",
              "    <tr>\n",
              "      <th>2</th>\n",
              "      <td>8</td>\n",
              "      <td>Albanie</td>\n",
              "      <td>2854710.0</td>\n",
              "    </tr>\n",
              "    <tr>\n",
              "      <th>3</th>\n",
              "      <td>12</td>\n",
              "      <td>Algérie</td>\n",
              "      <td>44177969.0</td>\n",
              "    </tr>\n",
              "    <tr>\n",
              "      <th>4</th>\n",
              "      <td>276</td>\n",
              "      <td>Allemagne</td>\n",
              "      <td>83408554.0</td>\n",
              "    </tr>\n",
              "  </tbody>\n",
              "</table>\n",
              "</div>\n",
              "    <div class=\"colab-df-buttons\">\n",
              "\n",
              "  <div class=\"colab-df-container\">\n",
              "    <button class=\"colab-df-convert\" onclick=\"convertToInteractive('df-a1756c34-42b5-4576-97d6-a6d20a488710')\"\n",
              "            title=\"Convert this dataframe to an interactive table.\"\n",
              "            style=\"display:none;\">\n",
              "\n",
              "  <svg xmlns=\"http://www.w3.org/2000/svg\" height=\"24px\" viewBox=\"0 -960 960 960\">\n",
              "    <path d=\"M120-120v-720h720v720H120Zm60-500h600v-160H180v160Zm220 220h160v-160H400v160Zm0 220h160v-160H400v160ZM180-400h160v-160H180v160Zm440 0h160v-160H620v160ZM180-180h160v-160H180v160Zm440 0h160v-160H620v160Z\"/>\n",
              "  </svg>\n",
              "    </button>\n",
              "\n",
              "  <style>\n",
              "    .colab-df-container {\n",
              "      display:flex;\n",
              "      gap: 12px;\n",
              "    }\n",
              "\n",
              "    .colab-df-convert {\n",
              "      background-color: #E8F0FE;\n",
              "      border: none;\n",
              "      border-radius: 50%;\n",
              "      cursor: pointer;\n",
              "      display: none;\n",
              "      fill: #1967D2;\n",
              "      height: 32px;\n",
              "      padding: 0 0 0 0;\n",
              "      width: 32px;\n",
              "    }\n",
              "\n",
              "    .colab-df-convert:hover {\n",
              "      background-color: #E2EBFA;\n",
              "      box-shadow: 0px 1px 2px rgba(60, 64, 67, 0.3), 0px 1px 3px 1px rgba(60, 64, 67, 0.15);\n",
              "      fill: #174EA6;\n",
              "    }\n",
              "\n",
              "    .colab-df-buttons div {\n",
              "      margin-bottom: 4px;\n",
              "    }\n",
              "\n",
              "    [theme=dark] .colab-df-convert {\n",
              "      background-color: #3B4455;\n",
              "      fill: #D2E3FC;\n",
              "    }\n",
              "\n",
              "    [theme=dark] .colab-df-convert:hover {\n",
              "      background-color: #434B5C;\n",
              "      box-shadow: 0px 1px 3px 1px rgba(0, 0, 0, 0.15);\n",
              "      filter: drop-shadow(0px 1px 2px rgba(0, 0, 0, 0.3));\n",
              "      fill: #FFFFFF;\n",
              "    }\n",
              "  </style>\n",
              "\n",
              "    <script>\n",
              "      const buttonEl =\n",
              "        document.querySelector('#df-a1756c34-42b5-4576-97d6-a6d20a488710 button.colab-df-convert');\n",
              "      buttonEl.style.display =\n",
              "        google.colab.kernel.accessAllowed ? 'block' : 'none';\n",
              "\n",
              "      async function convertToInteractive(key) {\n",
              "        const element = document.querySelector('#df-a1756c34-42b5-4576-97d6-a6d20a488710');\n",
              "        const dataTable =\n",
              "          await google.colab.kernel.invokeFunction('convertToInteractive',\n",
              "                                                    [key], {});\n",
              "        if (!dataTable) return;\n",
              "\n",
              "        const docLinkHtml = 'Like what you see? Visit the ' +\n",
              "          '<a target=\"_blank\" href=https://colab.research.google.com/notebooks/data_table.ipynb>data table notebook</a>'\n",
              "          + ' to learn more about interactive tables.';\n",
              "        element.innerHTML = '';\n",
              "        dataTable['output_type'] = 'display_data';\n",
              "        await google.colab.output.renderOutput(dataTable, element);\n",
              "        const docLink = document.createElement('div');\n",
              "        docLink.innerHTML = docLinkHtml;\n",
              "        element.appendChild(docLink);\n",
              "      }\n",
              "    </script>\n",
              "  </div>\n",
              "\n",
              "\n",
              "<div id=\"df-0ae38fc3-3a3c-4fb4-8a53-408455611425\">\n",
              "  <button class=\"colab-df-quickchart\" onclick=\"quickchart('df-0ae38fc3-3a3c-4fb4-8a53-408455611425')\"\n",
              "            title=\"Suggest charts\"\n",
              "            style=\"display:none;\">\n",
              "\n",
              "<svg xmlns=\"http://www.w3.org/2000/svg\" height=\"24px\"viewBox=\"0 0 24 24\"\n",
              "     width=\"24px\">\n",
              "    <g>\n",
              "        <path d=\"M19 3H5c-1.1 0-2 .9-2 2v14c0 1.1.9 2 2 2h14c1.1 0 2-.9 2-2V5c0-1.1-.9-2-2-2zM9 17H7v-7h2v7zm4 0h-2V7h2v10zm4 0h-2v-4h2v4z\"/>\n",
              "    </g>\n",
              "</svg>\n",
              "  </button>\n",
              "\n",
              "<style>\n",
              "  .colab-df-quickchart {\n",
              "      --bg-color: #E8F0FE;\n",
              "      --fill-color: #1967D2;\n",
              "      --hover-bg-color: #E2EBFA;\n",
              "      --hover-fill-color: #174EA6;\n",
              "      --disabled-fill-color: #AAA;\n",
              "      --disabled-bg-color: #DDD;\n",
              "  }\n",
              "\n",
              "  [theme=dark] .colab-df-quickchart {\n",
              "      --bg-color: #3B4455;\n",
              "      --fill-color: #D2E3FC;\n",
              "      --hover-bg-color: #434B5C;\n",
              "      --hover-fill-color: #FFFFFF;\n",
              "      --disabled-bg-color: #3B4455;\n",
              "      --disabled-fill-color: #666;\n",
              "  }\n",
              "\n",
              "  .colab-df-quickchart {\n",
              "    background-color: var(--bg-color);\n",
              "    border: none;\n",
              "    border-radius: 50%;\n",
              "    cursor: pointer;\n",
              "    display: none;\n",
              "    fill: var(--fill-color);\n",
              "    height: 32px;\n",
              "    padding: 0;\n",
              "    width: 32px;\n",
              "  }\n",
              "\n",
              "  .colab-df-quickchart:hover {\n",
              "    background-color: var(--hover-bg-color);\n",
              "    box-shadow: 0 1px 2px rgba(60, 64, 67, 0.3), 0 1px 3px 1px rgba(60, 64, 67, 0.15);\n",
              "    fill: var(--button-hover-fill-color);\n",
              "  }\n",
              "\n",
              "  .colab-df-quickchart-complete:disabled,\n",
              "  .colab-df-quickchart-complete:disabled:hover {\n",
              "    background-color: var(--disabled-bg-color);\n",
              "    fill: var(--disabled-fill-color);\n",
              "    box-shadow: none;\n",
              "  }\n",
              "\n",
              "  .colab-df-spinner {\n",
              "    border: 2px solid var(--fill-color);\n",
              "    border-color: transparent;\n",
              "    border-bottom-color: var(--fill-color);\n",
              "    animation:\n",
              "      spin 1s steps(1) infinite;\n",
              "  }\n",
              "\n",
              "  @keyframes spin {\n",
              "    0% {\n",
              "      border-color: transparent;\n",
              "      border-bottom-color: var(--fill-color);\n",
              "      border-left-color: var(--fill-color);\n",
              "    }\n",
              "    20% {\n",
              "      border-color: transparent;\n",
              "      border-left-color: var(--fill-color);\n",
              "      border-top-color: var(--fill-color);\n",
              "    }\n",
              "    30% {\n",
              "      border-color: transparent;\n",
              "      border-left-color: var(--fill-color);\n",
              "      border-top-color: var(--fill-color);\n",
              "      border-right-color: var(--fill-color);\n",
              "    }\n",
              "    40% {\n",
              "      border-color: transparent;\n",
              "      border-right-color: var(--fill-color);\n",
              "      border-top-color: var(--fill-color);\n",
              "    }\n",
              "    60% {\n",
              "      border-color: transparent;\n",
              "      border-right-color: var(--fill-color);\n",
              "    }\n",
              "    80% {\n",
              "      border-color: transparent;\n",
              "      border-right-color: var(--fill-color);\n",
              "      border-bottom-color: var(--fill-color);\n",
              "    }\n",
              "    90% {\n",
              "      border-color: transparent;\n",
              "      border-bottom-color: var(--fill-color);\n",
              "    }\n",
              "  }\n",
              "</style>\n",
              "\n",
              "  <script>\n",
              "    async function quickchart(key) {\n",
              "      const quickchartButtonEl =\n",
              "        document.querySelector('#' + key + ' button');\n",
              "      quickchartButtonEl.disabled = true;  // To prevent multiple clicks.\n",
              "      quickchartButtonEl.classList.add('colab-df-spinner');\n",
              "      try {\n",
              "        const charts = await google.colab.kernel.invokeFunction(\n",
              "            'suggestCharts', [key], {});\n",
              "      } catch (error) {\n",
              "        console.error('Error during call to suggestCharts:', error);\n",
              "      }\n",
              "      quickchartButtonEl.classList.remove('colab-df-spinner');\n",
              "      quickchartButtonEl.classList.add('colab-df-quickchart-complete');\n",
              "    }\n",
              "    (() => {\n",
              "      let quickchartButtonEl =\n",
              "        document.querySelector('#df-0ae38fc3-3a3c-4fb4-8a53-408455611425 button');\n",
              "      quickchartButtonEl.style.display =\n",
              "        google.colab.kernel.accessAllowed ? 'block' : 'none';\n",
              "    })();\n",
              "  </script>\n",
              "</div>\n",
              "\n",
              "    </div>\n",
              "  </div>\n"
            ],
            "application/vnd.google.colaboratory.intrinsic+json": {
              "type": "dataframe",
              "variable_name": "population_2021",
              "summary": "{\n  \"name\": \"population_2021\",\n  \"rows\": 235,\n  \"fields\": [\n    {\n      \"column\": \"Code zone (M49)\",\n      \"properties\": {\n        \"dtype\": \"number\",\n        \"std\": 251,\n        \"min\": 4,\n        \"max\": 894,\n        \"num_unique_values\": 235,\n        \"samples\": [\n          246,\n          706,\n          408\n        ],\n        \"semantic_type\": \"\",\n        \"description\": \"\"\n      }\n    },\n    {\n      \"column\": \"Zone\",\n      \"properties\": {\n        \"dtype\": \"string\",\n        \"num_unique_values\": 235,\n        \"samples\": [\n          \"Finlande\",\n          \"Somalie\",\n          \"R\\u00e9publique populaire d\\u00e9mocratique de Cor\\u00e9e\"\n        ],\n        \"semantic_type\": \"\",\n        \"description\": \"\"\n      }\n    },\n    {\n      \"column\": \"Population totale\",\n      \"properties\": {\n        \"dtype\": \"number\",\n        \"std\": 164652168.3349824,\n        \"min\": 511.0,\n        \"max\": 1457934562.0,\n        \"num_unique_values\": 235,\n        \"samples\": [\n          5535992.0,\n          17065581.0,\n          25971909.0\n        ],\n        \"semantic_type\": \"\",\n        \"description\": \"\"\n      }\n    }\n  ]\n}"
            }
          },
          "metadata": {},
          "execution_count": 12
        }
      ]
    },
    {
      "cell_type": "code",
      "source": [
        "# Recherche des valeurs manquantes\n",
        "population_2021.isna().sum()"
      ],
      "metadata": {
        "colab": {
          "base_uri": "https://localhost:8080/"
        },
        "id": "10rYvFyCl0N3",
        "outputId": "86d1c47a-c044-4664-cda0-cb3079460d25"
      },
      "execution_count": 13,
      "outputs": [
        {
          "output_type": "execute_result",
          "data": {
            "text/plain": [
              "Code zone (M49)      0\n",
              "Zone                 0\n",
              "Population totale    0\n",
              "dtype: int64"
            ]
          },
          "metadata": {},
          "execution_count": 13
        }
      ]
    },
    {
      "cell_type": "code",
      "source": [
        "# Recherche des doublons\n",
        "population_2021.duplicated().sum()"
      ],
      "metadata": {
        "colab": {
          "base_uri": "https://localhost:8080/"
        },
        "id": "P77dQUu2mVoK",
        "outputId": "a11a6793-daf5-4154-f79a-73042366e232"
      },
      "execution_count": 14,
      "outputs": [
        {
          "output_type": "execute_result",
          "data": {
            "text/plain": [
              "0"
            ]
          },
          "metadata": {},
          "execution_count": 14
        }
      ]
    },
    {
      "cell_type": "code",
      "source": [
        "# Compter les valeurs uniques pour chaque colonne\n",
        "valeurs_uniques = population_2021.nunique()\n",
        "print(\"Valeurs uniques par colonne:\")\n",
        "print(valeurs_uniques)\n"
      ],
      "metadata": {
        "colab": {
          "base_uri": "https://localhost:8080/"
        },
        "id": "eNerXQxbmzOP",
        "outputId": "14f06d08-72f3-4512-f994-24a16a50c825"
      },
      "execution_count": 15,
      "outputs": [
        {
          "output_type": "stream",
          "name": "stdout",
          "text": [
            "Valeurs uniques par colonne:\n",
            "Code zone (M49)      235\n",
            "Zone                 235\n",
            "Population totale    235\n",
            "dtype: int64\n"
          ]
        }
      ]
    },
    {
      "cell_type": "code",
      "source": [
        "# Afficher les types de données de chaque colonne\n",
        "print(population_2021.dtypes)\n"
      ],
      "metadata": {
        "colab": {
          "base_uri": "https://localhost:8080/"
        },
        "id": "M92aLf4In-y0",
        "outputId": "e7a2a11e-2485-4914-9af3-e60414cc9f94"
      },
      "execution_count": 16,
      "outputs": [
        {
          "output_type": "stream",
          "name": "stdout",
          "text": [
            "Code zone (M49)        int64\n",
            "Zone                  object\n",
            "Population totale    float64\n",
            "dtype: object\n"
          ]
        }
      ]
    },
    {
      "cell_type": "markdown",
      "source": [
        "2-2: Analyse exploratoire de fichier stabilité politique"
      ],
      "metadata": {
        "id": "JBeBfixjEUvN"
      }
    },
    {
      "cell_type": "code",
      "source": [
        "# Afficher les premieres lignes de  fichier stabilité politique\n",
        "print(stabilité_politique.head())"
      ],
      "metadata": {
        "colab": {
          "base_uri": "https://localhost:8080/"
        },
        "id": "k_9fm6CDDTd2",
        "outputId": "5be89cd5-8d08-4eda-c1d7-7f5d0bba8cd4"
      },
      "execution_count": 17,
      "outputs": [
        {
          "output_type": "stream",
          "name": "stdout",
          "text": [
            "  Code Domaine                             Domaine  Code zone (M49)  \\\n",
            "0           FS  Données de la sécurité alimentaire                4   \n",
            "1           FS  Données de la sécurité alimentaire              710   \n",
            "2           FS  Données de la sécurité alimentaire                8   \n",
            "3           FS  Données de la sécurité alimentaire               12   \n",
            "4           FS  Données de la sécurité alimentaire              276   \n",
            "\n",
            "             Zone  Code Élément Élément  Code Produit  \\\n",
            "0     Afghanistan          6125  Valeur         21032   \n",
            "1  Afrique du Sud          6125  Valeur         21032   \n",
            "2         Albanie          6125  Valeur         21032   \n",
            "3         Algérie          6125  Valeur         21032   \n",
            "4       Allemagne          6125  Valeur         21032   \n",
            "\n",
            "                                             Produit  Code année  Année  \\\n",
            "0  Stabilité politique et absence de violence/ter...        2021   2021   \n",
            "1  Stabilité politique et absence de violence/ter...        2021   2021   \n",
            "2  Stabilité politique et absence de violence/ter...        2021   2021   \n",
            "3  Stabilité politique et absence de violence/ter...        2021   2021   \n",
            "4  Stabilité politique et absence de violence/ter...        2021   2021   \n",
            "\n",
            "   Unité  Valeur Symbole             Description du Symbole  Note  \n",
            "0    NaN   -2.53       X  Ciffre de sources internationales   NaN  \n",
            "1    NaN   -0.71       X  Ciffre de sources internationales   NaN  \n",
            "2    NaN    0.11       X  Ciffre de sources internationales   NaN  \n",
            "3    NaN   -0.88       X  Ciffre de sources internationales   NaN  \n",
            "4    NaN    0.76       X  Ciffre de sources internationales   NaN  \n"
          ]
        }
      ]
    },
    {
      "cell_type": "code",
      "source": [
        "# Suppression des colonnes inutiles\n",
        "# Liste des colonnes à supprimer\n",
        "colonne_a_supprimer_stabilité_politique = ['Code Domaine','Domaine','Code Élément','Élément','Code Produit','Produit','Code année','Année','Unité','Symbole','Description du Symbole','Note']"
      ],
      "metadata": {
        "id": "VYLgU_2ky8AJ"
      },
      "execution_count": 18,
      "outputs": []
    },
    {
      "cell_type": "code",
      "source": [
        "# Suppression des colonnes\n",
        "stabilité_politique_2021 =stabilité_politique.drop(columns=colonne_a_supprimer_stabilité_politique)\n",
        "print(stabilité_politique_2021.head())"
      ],
      "metadata": {
        "colab": {
          "base_uri": "https://localhost:8080/"
        },
        "id": "EFfzMDNX4X5I",
        "outputId": "65aaf520-c4e9-4285-cb38-7be1b26703b6"
      },
      "execution_count": 19,
      "outputs": [
        {
          "output_type": "stream",
          "name": "stdout",
          "text": [
            "   Code zone (M49)            Zone  Valeur\n",
            "0                4     Afghanistan   -2.53\n",
            "1              710  Afrique du Sud   -0.71\n",
            "2                8         Albanie    0.11\n",
            "3               12         Algérie   -0.88\n",
            "4              276       Allemagne    0.76\n"
          ]
        }
      ]
    },
    {
      "cell_type": "code",
      "source": [
        "# Renommer la colonne valeur par indice de stabilité politique\n",
        "stabilité_politique_2021= stabilité_politique_2021.rename(columns={'Valeur': 'Indice de stabilité politique'})\n",
        "stabilité_politique_2021.head()"
      ],
      "metadata": {
        "id": "qtTZ445d2GuE",
        "colab": {
          "base_uri": "https://localhost:8080/",
          "height": 206
        },
        "outputId": "64c8013a-1dca-4c84-849f-8a5965bbd5f5"
      },
      "execution_count": 20,
      "outputs": [
        {
          "output_type": "execute_result",
          "data": {
            "text/plain": [
              "   Code zone (M49)            Zone  Indice de stabilité politique\n",
              "0                4     Afghanistan                          -2.53\n",
              "1              710  Afrique du Sud                          -0.71\n",
              "2                8         Albanie                           0.11\n",
              "3               12         Algérie                          -0.88\n",
              "4              276       Allemagne                           0.76"
            ],
            "text/html": [
              "\n",
              "  <div id=\"df-8773254f-b1ea-4f7c-9953-b1f36ad58cfc\" class=\"colab-df-container\">\n",
              "    <div>\n",
              "<style scoped>\n",
              "    .dataframe tbody tr th:only-of-type {\n",
              "        vertical-align: middle;\n",
              "    }\n",
              "\n",
              "    .dataframe tbody tr th {\n",
              "        vertical-align: top;\n",
              "    }\n",
              "\n",
              "    .dataframe thead th {\n",
              "        text-align: right;\n",
              "    }\n",
              "</style>\n",
              "<table border=\"1\" class=\"dataframe\">\n",
              "  <thead>\n",
              "    <tr style=\"text-align: right;\">\n",
              "      <th></th>\n",
              "      <th>Code zone (M49)</th>\n",
              "      <th>Zone</th>\n",
              "      <th>Indice de stabilité politique</th>\n",
              "    </tr>\n",
              "  </thead>\n",
              "  <tbody>\n",
              "    <tr>\n",
              "      <th>0</th>\n",
              "      <td>4</td>\n",
              "      <td>Afghanistan</td>\n",
              "      <td>-2.53</td>\n",
              "    </tr>\n",
              "    <tr>\n",
              "      <th>1</th>\n",
              "      <td>710</td>\n",
              "      <td>Afrique du Sud</td>\n",
              "      <td>-0.71</td>\n",
              "    </tr>\n",
              "    <tr>\n",
              "      <th>2</th>\n",
              "      <td>8</td>\n",
              "      <td>Albanie</td>\n",
              "      <td>0.11</td>\n",
              "    </tr>\n",
              "    <tr>\n",
              "      <th>3</th>\n",
              "      <td>12</td>\n",
              "      <td>Algérie</td>\n",
              "      <td>-0.88</td>\n",
              "    </tr>\n",
              "    <tr>\n",
              "      <th>4</th>\n",
              "      <td>276</td>\n",
              "      <td>Allemagne</td>\n",
              "      <td>0.76</td>\n",
              "    </tr>\n",
              "  </tbody>\n",
              "</table>\n",
              "</div>\n",
              "    <div class=\"colab-df-buttons\">\n",
              "\n",
              "  <div class=\"colab-df-container\">\n",
              "    <button class=\"colab-df-convert\" onclick=\"convertToInteractive('df-8773254f-b1ea-4f7c-9953-b1f36ad58cfc')\"\n",
              "            title=\"Convert this dataframe to an interactive table.\"\n",
              "            style=\"display:none;\">\n",
              "\n",
              "  <svg xmlns=\"http://www.w3.org/2000/svg\" height=\"24px\" viewBox=\"0 -960 960 960\">\n",
              "    <path d=\"M120-120v-720h720v720H120Zm60-500h600v-160H180v160Zm220 220h160v-160H400v160Zm0 220h160v-160H400v160ZM180-400h160v-160H180v160Zm440 0h160v-160H620v160ZM180-180h160v-160H180v160Zm440 0h160v-160H620v160Z\"/>\n",
              "  </svg>\n",
              "    </button>\n",
              "\n",
              "  <style>\n",
              "    .colab-df-container {\n",
              "      display:flex;\n",
              "      gap: 12px;\n",
              "    }\n",
              "\n",
              "    .colab-df-convert {\n",
              "      background-color: #E8F0FE;\n",
              "      border: none;\n",
              "      border-radius: 50%;\n",
              "      cursor: pointer;\n",
              "      display: none;\n",
              "      fill: #1967D2;\n",
              "      height: 32px;\n",
              "      padding: 0 0 0 0;\n",
              "      width: 32px;\n",
              "    }\n",
              "\n",
              "    .colab-df-convert:hover {\n",
              "      background-color: #E2EBFA;\n",
              "      box-shadow: 0px 1px 2px rgba(60, 64, 67, 0.3), 0px 1px 3px 1px rgba(60, 64, 67, 0.15);\n",
              "      fill: #174EA6;\n",
              "    }\n",
              "\n",
              "    .colab-df-buttons div {\n",
              "      margin-bottom: 4px;\n",
              "    }\n",
              "\n",
              "    [theme=dark] .colab-df-convert {\n",
              "      background-color: #3B4455;\n",
              "      fill: #D2E3FC;\n",
              "    }\n",
              "\n",
              "    [theme=dark] .colab-df-convert:hover {\n",
              "      background-color: #434B5C;\n",
              "      box-shadow: 0px 1px 3px 1px rgba(0, 0, 0, 0.15);\n",
              "      filter: drop-shadow(0px 1px 2px rgba(0, 0, 0, 0.3));\n",
              "      fill: #FFFFFF;\n",
              "    }\n",
              "  </style>\n",
              "\n",
              "    <script>\n",
              "      const buttonEl =\n",
              "        document.querySelector('#df-8773254f-b1ea-4f7c-9953-b1f36ad58cfc button.colab-df-convert');\n",
              "      buttonEl.style.display =\n",
              "        google.colab.kernel.accessAllowed ? 'block' : 'none';\n",
              "\n",
              "      async function convertToInteractive(key) {\n",
              "        const element = document.querySelector('#df-8773254f-b1ea-4f7c-9953-b1f36ad58cfc');\n",
              "        const dataTable =\n",
              "          await google.colab.kernel.invokeFunction('convertToInteractive',\n",
              "                                                    [key], {});\n",
              "        if (!dataTable) return;\n",
              "\n",
              "        const docLinkHtml = 'Like what you see? Visit the ' +\n",
              "          '<a target=\"_blank\" href=https://colab.research.google.com/notebooks/data_table.ipynb>data table notebook</a>'\n",
              "          + ' to learn more about interactive tables.';\n",
              "        element.innerHTML = '';\n",
              "        dataTable['output_type'] = 'display_data';\n",
              "        await google.colab.output.renderOutput(dataTable, element);\n",
              "        const docLink = document.createElement('div');\n",
              "        docLink.innerHTML = docLinkHtml;\n",
              "        element.appendChild(docLink);\n",
              "      }\n",
              "    </script>\n",
              "  </div>\n",
              "\n",
              "\n",
              "<div id=\"df-fcbd038c-7e1b-460e-b122-5776051207f3\">\n",
              "  <button class=\"colab-df-quickchart\" onclick=\"quickchart('df-fcbd038c-7e1b-460e-b122-5776051207f3')\"\n",
              "            title=\"Suggest charts\"\n",
              "            style=\"display:none;\">\n",
              "\n",
              "<svg xmlns=\"http://www.w3.org/2000/svg\" height=\"24px\"viewBox=\"0 0 24 24\"\n",
              "     width=\"24px\">\n",
              "    <g>\n",
              "        <path d=\"M19 3H5c-1.1 0-2 .9-2 2v14c0 1.1.9 2 2 2h14c1.1 0 2-.9 2-2V5c0-1.1-.9-2-2-2zM9 17H7v-7h2v7zm4 0h-2V7h2v10zm4 0h-2v-4h2v4z\"/>\n",
              "    </g>\n",
              "</svg>\n",
              "  </button>\n",
              "\n",
              "<style>\n",
              "  .colab-df-quickchart {\n",
              "      --bg-color: #E8F0FE;\n",
              "      --fill-color: #1967D2;\n",
              "      --hover-bg-color: #E2EBFA;\n",
              "      --hover-fill-color: #174EA6;\n",
              "      --disabled-fill-color: #AAA;\n",
              "      --disabled-bg-color: #DDD;\n",
              "  }\n",
              "\n",
              "  [theme=dark] .colab-df-quickchart {\n",
              "      --bg-color: #3B4455;\n",
              "      --fill-color: #D2E3FC;\n",
              "      --hover-bg-color: #434B5C;\n",
              "      --hover-fill-color: #FFFFFF;\n",
              "      --disabled-bg-color: #3B4455;\n",
              "      --disabled-fill-color: #666;\n",
              "  }\n",
              "\n",
              "  .colab-df-quickchart {\n",
              "    background-color: var(--bg-color);\n",
              "    border: none;\n",
              "    border-radius: 50%;\n",
              "    cursor: pointer;\n",
              "    display: none;\n",
              "    fill: var(--fill-color);\n",
              "    height: 32px;\n",
              "    padding: 0;\n",
              "    width: 32px;\n",
              "  }\n",
              "\n",
              "  .colab-df-quickchart:hover {\n",
              "    background-color: var(--hover-bg-color);\n",
              "    box-shadow: 0 1px 2px rgba(60, 64, 67, 0.3), 0 1px 3px 1px rgba(60, 64, 67, 0.15);\n",
              "    fill: var(--button-hover-fill-color);\n",
              "  }\n",
              "\n",
              "  .colab-df-quickchart-complete:disabled,\n",
              "  .colab-df-quickchart-complete:disabled:hover {\n",
              "    background-color: var(--disabled-bg-color);\n",
              "    fill: var(--disabled-fill-color);\n",
              "    box-shadow: none;\n",
              "  }\n",
              "\n",
              "  .colab-df-spinner {\n",
              "    border: 2px solid var(--fill-color);\n",
              "    border-color: transparent;\n",
              "    border-bottom-color: var(--fill-color);\n",
              "    animation:\n",
              "      spin 1s steps(1) infinite;\n",
              "  }\n",
              "\n",
              "  @keyframes spin {\n",
              "    0% {\n",
              "      border-color: transparent;\n",
              "      border-bottom-color: var(--fill-color);\n",
              "      border-left-color: var(--fill-color);\n",
              "    }\n",
              "    20% {\n",
              "      border-color: transparent;\n",
              "      border-left-color: var(--fill-color);\n",
              "      border-top-color: var(--fill-color);\n",
              "    }\n",
              "    30% {\n",
              "      border-color: transparent;\n",
              "      border-left-color: var(--fill-color);\n",
              "      border-top-color: var(--fill-color);\n",
              "      border-right-color: var(--fill-color);\n",
              "    }\n",
              "    40% {\n",
              "      border-color: transparent;\n",
              "      border-right-color: var(--fill-color);\n",
              "      border-top-color: var(--fill-color);\n",
              "    }\n",
              "    60% {\n",
              "      border-color: transparent;\n",
              "      border-right-color: var(--fill-color);\n",
              "    }\n",
              "    80% {\n",
              "      border-color: transparent;\n",
              "      border-right-color: var(--fill-color);\n",
              "      border-bottom-color: var(--fill-color);\n",
              "    }\n",
              "    90% {\n",
              "      border-color: transparent;\n",
              "      border-bottom-color: var(--fill-color);\n",
              "    }\n",
              "  }\n",
              "</style>\n",
              "\n",
              "  <script>\n",
              "    async function quickchart(key) {\n",
              "      const quickchartButtonEl =\n",
              "        document.querySelector('#' + key + ' button');\n",
              "      quickchartButtonEl.disabled = true;  // To prevent multiple clicks.\n",
              "      quickchartButtonEl.classList.add('colab-df-spinner');\n",
              "      try {\n",
              "        const charts = await google.colab.kernel.invokeFunction(\n",
              "            'suggestCharts', [key], {});\n",
              "      } catch (error) {\n",
              "        console.error('Error during call to suggestCharts:', error);\n",
              "      }\n",
              "      quickchartButtonEl.classList.remove('colab-df-spinner');\n",
              "      quickchartButtonEl.classList.add('colab-df-quickchart-complete');\n",
              "    }\n",
              "    (() => {\n",
              "      let quickchartButtonEl =\n",
              "        document.querySelector('#df-fcbd038c-7e1b-460e-b122-5776051207f3 button');\n",
              "      quickchartButtonEl.style.display =\n",
              "        google.colab.kernel.accessAllowed ? 'block' : 'none';\n",
              "    })();\n",
              "  </script>\n",
              "</div>\n",
              "\n",
              "    </div>\n",
              "  </div>\n"
            ],
            "application/vnd.google.colaboratory.intrinsic+json": {
              "type": "dataframe",
              "variable_name": "stabilité_politique_2021",
              "summary": "{\n  \"name\": \"stabilit\\u00e9_politique_2021\",\n  \"rows\": 196,\n  \"fields\": [\n    {\n      \"column\": \"Code zone (M49)\",\n      \"properties\": {\n        \"dtype\": \"number\",\n        \"std\": 255,\n        \"min\": 4,\n        \"max\": 894,\n        \"num_unique_values\": 196,\n        \"samples\": [\n          608,\n          478,\n          50\n        ],\n        \"semantic_type\": \"\",\n        \"description\": \"\"\n      }\n    },\n    {\n      \"column\": \"Zone\",\n      \"properties\": {\n        \"dtype\": \"string\",\n        \"num_unique_values\": 196,\n        \"samples\": [\n          \"Philippines\",\n          \"Mauritanie\",\n          \"Bangladesh\"\n        ],\n        \"semantic_type\": \"\",\n        \"description\": \"\"\n      }\n    },\n    {\n      \"column\": \"Indice de stabilit\\u00e9 politique\",\n      \"properties\": {\n        \"dtype\": \"number\",\n        \"std\": 0.9936681208431243,\n        \"min\": -2.68,\n        \"max\": 1.88,\n        \"num_unique_values\": 145,\n        \"samples\": [\n          -0.14,\n          1.28,\n          1.17\n        ],\n        \"semantic_type\": \"\",\n        \"description\": \"\"\n      }\n    }\n  ]\n}"
            }
          },
          "metadata": {},
          "execution_count": 20
        }
      ]
    },
    {
      "cell_type": "code",
      "source": [
        "# Recherche des valeurs manquantes\n",
        "valeurs_manquantes = stabilité_politique_2021.isnull().sum()\n",
        "print(\"Valeurs manquantes par colonne:\")\n",
        "print(valeurs_manquantes)\n",
        "\n"
      ],
      "metadata": {
        "colab": {
          "base_uri": "https://localhost:8080/"
        },
        "id": "tXR86frByvdu",
        "outputId": "fe258bdd-c97e-4217-e9a1-d595afcb2d3a"
      },
      "execution_count": 21,
      "outputs": [
        {
          "output_type": "stream",
          "name": "stdout",
          "text": [
            "Valeurs manquantes par colonne:\n",
            "Code zone (M49)                  0\n",
            "Zone                             0\n",
            "Indice de stabilité politique    0\n",
            "dtype: int64\n"
          ]
        }
      ]
    },
    {
      "cell_type": "code",
      "source": [
        "# Compter les valeurs uniques pour chaque colonne\n",
        "valeurs_uniques = stabilité_politique_2021.nunique()\n",
        "print(\"Valeurs uniques par colonne:\")\n",
        "print(valeurs_uniques)"
      ],
      "metadata": {
        "colab": {
          "base_uri": "https://localhost:8080/"
        },
        "id": "U4r864ioCeI9",
        "outputId": "b4887bff-b158-42f8-eb71-007b82fdd506"
      },
      "execution_count": 22,
      "outputs": [
        {
          "output_type": "stream",
          "name": "stdout",
          "text": [
            "Valeurs uniques par colonne:\n",
            "Code zone (M49)                  196\n",
            "Zone                             196\n",
            "Indice de stabilité politique    145\n",
            "dtype: int64\n"
          ]
        }
      ]
    },
    {
      "cell_type": "code",
      "source": [
        "# Recherche des doublons\n",
        "stabilité_politique_2021.duplicated().sum()"
      ],
      "metadata": {
        "colab": {
          "base_uri": "https://localhost:8080/"
        },
        "id": "l0_8c75QCvqE",
        "outputId": "54ec2402-fc34-4100-8e6a-2ee3cbe3bdd5"
      },
      "execution_count": 23,
      "outputs": [
        {
          "output_type": "execute_result",
          "data": {
            "text/plain": [
              "0"
            ]
          },
          "metadata": {},
          "execution_count": 23
        }
      ]
    },
    {
      "cell_type": "markdown",
      "source": [
        "2-3: Analyse exploratoire de fichier importation_exportation"
      ],
      "metadata": {
        "id": "KwCSMDdrEg0u"
      }
    },
    {
      "cell_type": "code",
      "source": [
        "# Afficher les premieres lignes de  fichier importation_exportation\n",
        "print(importation_exportation.head())"
      ],
      "metadata": {
        "colab": {
          "base_uri": "https://localhost:8080/"
        },
        "id": "5WDlPvrDH9xU",
        "outputId": "3c746dd7-c209-4b2e-cf48-73c9865d994d"
      },
      "execution_count": 24,
      "outputs": [
        {
          "output_type": "stream",
          "name": "stdout",
          "text": [
            "  Code Domaine                       Domaine  Code zone (M49)         Zone  \\\n",
            "0          TCL  Cultures et produits animaux                4  Afghanistan   \n",
            "1          TCL  Cultures et produits animaux                4  Afghanistan   \n",
            "2          TCL  Cultures et produits animaux                4  Afghanistan   \n",
            "3          TCL  Cultures et produits animaux                4  Afghanistan   \n",
            "4          TCL  Cultures et produits animaux                4  Afghanistan   \n",
            "\n",
            "   Code Élément                  Élément  Code Produit (CPC)  \\\n",
            "0          5609  Importations - Quantité                2151   \n",
            "1          5622    Importations - Valeur                2151   \n",
            "2          5909  Exportations - Quantité                2151   \n",
            "3          5922    Exportations - Valeur                2151   \n",
            "4          5610  Importations - Quantité               21121   \n",
            "\n",
            "                                 Produit  Code année  Année       Unité  \\\n",
            "0                                Poulets        2021   2021  1000 têtes   \n",
            "1                                Poulets        2021   2021    1000 US$   \n",
            "2                                Poulets        2021   2021  1000 têtes   \n",
            "3                                Poulets        2021   2021    1000 US$   \n",
            "4  Viande, poulet, fraîche ou réfrigérée        2021   2021      tonnes   \n",
            "\n",
            "     Valeur Symbole             Description du Symbole  \\\n",
            "0  12470.00       X  Ciffre de sources internationales   \n",
            "1   5526.00       X  Ciffre de sources internationales   \n",
            "2      0.00       X  Ciffre de sources internationales   \n",
            "3      0.00       X  Ciffre de sources internationales   \n",
            "4  32613.38       X  Ciffre de sources internationales   \n",
            "\n",
            "                                                Note  \n",
            "0  Données estimées en utilisant les données des ...  \n",
            "1  Données estimées en utilisant les données des ...  \n",
            "2  Données estimées en utilisant les données des ...  \n",
            "3  Données estimées en utilisant les données des ...  \n",
            "4  Données estimées en utilisant les données des ...  \n"
          ]
        }
      ]
    },
    {
      "cell_type": "code",
      "source": [
        "# Suppression des colonnes inutile\n",
        "# Liste des colonnes à supprimer\n",
        "colonne_a_supprimer_importation_exportation = ['Code Domaine','Domaine','Code Élément','Code Produit (CPC)','Code année','Année','Symbole','Description du Symbole','Note']"
      ],
      "metadata": {
        "id": "SxjyFo8QLjFV"
      },
      "execution_count": 25,
      "outputs": []
    },
    {
      "cell_type": "code",
      "source": [
        "# Suppression des colonnes\n",
        "importation_exportation_2021 =importation_exportation.drop(columns=colonne_a_supprimer_importation_exportation)\n",
        "print(importation_exportation_2021.head())"
      ],
      "metadata": {
        "colab": {
          "base_uri": "https://localhost:8080/"
        },
        "id": "5rCZzTvHMJh5",
        "outputId": "1e32460a-f1b4-4f60-81a3-4c6707a184ee"
      },
      "execution_count": 26,
      "outputs": [
        {
          "output_type": "stream",
          "name": "stdout",
          "text": [
            "   Code zone (M49)         Zone                  Élément  \\\n",
            "0                4  Afghanistan  Importations - Quantité   \n",
            "1                4  Afghanistan    Importations - Valeur   \n",
            "2                4  Afghanistan  Exportations - Quantité   \n",
            "3                4  Afghanistan    Exportations - Valeur   \n",
            "4                4  Afghanistan  Importations - Quantité   \n",
            "\n",
            "                                 Produit       Unité    Valeur  \n",
            "0                                Poulets  1000 têtes  12470.00  \n",
            "1                                Poulets    1000 US$   5526.00  \n",
            "2                                Poulets  1000 têtes      0.00  \n",
            "3                                Poulets    1000 US$      0.00  \n",
            "4  Viande, poulet, fraîche ou réfrigérée      tonnes  32613.38  \n"
          ]
        }
      ]
    },
    {
      "cell_type": "code",
      "source": [
        "# Renommer les colonnes\n",
        "importation_exportation_2021.rename(columns={\n",
        "    'Élément': 'Type_Élément',\n",
        "    'Produit': 'Nom_Produit',\n",
        "    'Unité': 'Unité_Quantité',\n",
        "    'Valeur': 'Montant'\n",
        "}, inplace=True)\n",
        "\n",
        "# Afficher le DataFrame avec les nouvelles colonnes\n",
        "print(importation_exportation_2021)"
      ],
      "metadata": {
        "colab": {
          "base_uri": "https://localhost:8080/"
        },
        "id": "L1ZeRlTVMwmy",
        "outputId": "191cec4d-b8bc-489d-ca41-9fc1a089b0fb"
      },
      "execution_count": 27,
      "outputs": [
        {
          "output_type": "stream",
          "name": "stdout",
          "text": [
            "      Code zone (M49)         Zone             Type_Élément  \\\n",
            "0                   4  Afghanistan  Importations - Quantité   \n",
            "1                   4  Afghanistan    Importations - Valeur   \n",
            "2                   4  Afghanistan  Exportations - Quantité   \n",
            "3                   4  Afghanistan    Exportations - Valeur   \n",
            "4                   4  Afghanistan  Importations - Quantité   \n",
            "...               ...          ...                      ...   \n",
            "1201              716     Zimbabwe    Importations - Valeur   \n",
            "1202              716     Zimbabwe  Exportations - Quantité   \n",
            "1203              716     Zimbabwe    Exportations - Valeur   \n",
            "1204              716     Zimbabwe  Importations - Quantité   \n",
            "1205              716     Zimbabwe    Importations - Valeur   \n",
            "\n",
            "                                Nom_Produit Unité_Quantité   Montant  \n",
            "0                                   Poulets     1000 têtes  12470.00  \n",
            "1                                   Poulets       1000 US$   5526.00  \n",
            "2                                   Poulets     1000 têtes      0.00  \n",
            "3                                   Poulets       1000 US$      0.00  \n",
            "4     Viande, poulet, fraîche ou réfrigérée         tonnes  32613.38  \n",
            "...                                     ...            ...       ...  \n",
            "1201                                Poulets       1000 US$   5550.00  \n",
            "1202                                Poulets     1000 têtes    269.00  \n",
            "1203                                Poulets       1000 US$   1247.00  \n",
            "1204  Viande, poulet, fraîche ou réfrigérée         tonnes   4071.36  \n",
            "1205  Viande, poulet, fraîche ou réfrigérée       1000 US$   4315.00  \n",
            "\n",
            "[1206 rows x 6 columns]\n"
          ]
        }
      ]
    },
    {
      "cell_type": "code",
      "source": [
        "# Filtrer pour ne garder que les lignes où 'Nom_Produit' est 'Poulets'\n",
        "importation_exportation_poulets = importation_exportation_2021.loc[importation_exportation_2021['Nom_Produit'] == 'Poulets']\n",
        "\n",
        "# Afficher le DataFrame filtré\n",
        "print(importation_exportation_poulets)\n"
      ],
      "metadata": {
        "colab": {
          "base_uri": "https://localhost:8080/"
        },
        "id": "123s_BmUFTX-",
        "outputId": "a0e09ac2-b854-4878-8c4b-e2cc16056b26"
      },
      "execution_count": 28,
      "outputs": [
        {
          "output_type": "stream",
          "name": "stdout",
          "text": [
            "      Code zone (M49)            Zone             Type_Élément Nom_Produit  \\\n",
            "0                   4     Afghanistan  Importations - Quantité     Poulets   \n",
            "1                   4     Afghanistan    Importations - Valeur     Poulets   \n",
            "2                   4     Afghanistan  Exportations - Quantité     Poulets   \n",
            "3                   4     Afghanistan    Exportations - Valeur     Poulets   \n",
            "8                 710  Afrique du Sud  Importations - Quantité     Poulets   \n",
            "...               ...             ...                      ...         ...   \n",
            "1195              894          Zambie    Exportations - Valeur     Poulets   \n",
            "1200              716        Zimbabwe  Importations - Quantité     Poulets   \n",
            "1201              716        Zimbabwe    Importations - Valeur     Poulets   \n",
            "1202              716        Zimbabwe  Exportations - Quantité     Poulets   \n",
            "1203              716        Zimbabwe    Exportations - Valeur     Poulets   \n",
            "\n",
            "     Unité_Quantité  Montant  \n",
            "0        1000 têtes  12470.0  \n",
            "1          1000 US$   5526.0  \n",
            "2        1000 têtes      0.0  \n",
            "3          1000 US$      0.0  \n",
            "8        1000 têtes    487.0  \n",
            "...             ...      ...  \n",
            "1195       1000 US$  10420.0  \n",
            "1200     1000 têtes     55.0  \n",
            "1201       1000 US$   5550.0  \n",
            "1202     1000 têtes    269.0  \n",
            "1203       1000 US$   1247.0  \n",
            "\n",
            "[556 rows x 6 columns]\n"
          ]
        }
      ]
    },
    {
      "cell_type": "code",
      "source": [
        "# Supprimer la colonne 'Nom_Produit'\n",
        "importation_exportation_poulets2021 =importation_exportation_poulets.drop(columns=['Nom_Produit'])\n",
        "\n",
        "# Afficher le DataFrame filtré et modifié\n",
        "print(\"Données filtrées pour les poulets sans la colonne 'Nom_Produit':\")\n",
        "print(importation_exportation_poulets2021)"
      ],
      "metadata": {
        "colab": {
          "base_uri": "https://localhost:8080/"
        },
        "id": "_cv-jXaUJGRe",
        "outputId": "afe213d2-1b5a-4415-da30-1ef88105905f"
      },
      "execution_count": 29,
      "outputs": [
        {
          "output_type": "stream",
          "name": "stdout",
          "text": [
            "Données filtrées pour les poulets sans la colonne 'Nom_Produit':\n",
            "      Code zone (M49)            Zone             Type_Élément Unité_Quantité  \\\n",
            "0                   4     Afghanistan  Importations - Quantité     1000 têtes   \n",
            "1                   4     Afghanistan    Importations - Valeur       1000 US$   \n",
            "2                   4     Afghanistan  Exportations - Quantité     1000 têtes   \n",
            "3                   4     Afghanistan    Exportations - Valeur       1000 US$   \n",
            "8                 710  Afrique du Sud  Importations - Quantité     1000 têtes   \n",
            "...               ...             ...                      ...            ...   \n",
            "1195              894          Zambie    Exportations - Valeur       1000 US$   \n",
            "1200              716        Zimbabwe  Importations - Quantité     1000 têtes   \n",
            "1201              716        Zimbabwe    Importations - Valeur       1000 US$   \n",
            "1202              716        Zimbabwe  Exportations - Quantité     1000 têtes   \n",
            "1203              716        Zimbabwe    Exportations - Valeur       1000 US$   \n",
            "\n",
            "      Montant  \n",
            "0     12470.0  \n",
            "1      5526.0  \n",
            "2         0.0  \n",
            "3         0.0  \n",
            "8       487.0  \n",
            "...       ...  \n",
            "1195  10420.0  \n",
            "1200     55.0  \n",
            "1201   5550.0  \n",
            "1202    269.0  \n",
            "1203   1247.0  \n",
            "\n",
            "[556 rows x 5 columns]\n"
          ]
        }
      ]
    },
    {
      "cell_type": "code",
      "source": [
        "# Multiplier la colonne 'Montant' par 1000\n",
        "importation_exportation_poulets2021['Montant'] =importation_exportation_poulets2021['Montant'] * 1000\n",
        "\n",
        "# Supprimer la colonne 'Unité_Quantité'\n",
        "importation_exportation_poulets2021 = importation_exportation_poulets2021.drop(columns=['Unité_Quantité'])\n",
        "\n",
        "# Afficher le DataFrame modifié\n",
        "print(\"DataFrame modifié:\")\n",
        "print(importation_exportation_poulets2021)"
      ],
      "metadata": {
        "colab": {
          "base_uri": "https://localhost:8080/"
        },
        "id": "PnnQJr0tTorv",
        "outputId": "3c8df6f7-1614-4349-bcd6-6b1c838a4d95"
      },
      "execution_count": 30,
      "outputs": [
        {
          "output_type": "stream",
          "name": "stdout",
          "text": [
            "DataFrame modifié:\n",
            "      Code zone (M49)            Zone             Type_Élément     Montant\n",
            "0                   4     Afghanistan  Importations - Quantité  12470000.0\n",
            "1                   4     Afghanistan    Importations - Valeur   5526000.0\n",
            "2                   4     Afghanistan  Exportations - Quantité         0.0\n",
            "3                   4     Afghanistan    Exportations - Valeur         0.0\n",
            "8                 710  Afrique du Sud  Importations - Quantité    487000.0\n",
            "...               ...             ...                      ...         ...\n",
            "1195              894          Zambie    Exportations - Valeur  10420000.0\n",
            "1200              716        Zimbabwe  Importations - Quantité     55000.0\n",
            "1201              716        Zimbabwe    Importations - Valeur   5550000.0\n",
            "1202              716        Zimbabwe  Exportations - Quantité    269000.0\n",
            "1203              716        Zimbabwe    Exportations - Valeur   1247000.0\n",
            "\n",
            "[556 rows x 4 columns]\n"
          ]
        }
      ]
    },
    {
      "cell_type": "code",
      "source": [
        "# Pivotage des données pour transformer les types d'éléments en colonnes\n",
        "importation_exportation_poulets2021 = importation_exportation_poulets2021.pivot_table(index=['Code zone (M49)', 'Zone'],\n",
        "                          columns='Type_Élément',\n",
        "                          values='Montant',\n",
        "                          aggfunc='sum').reset_index()\n",
        "\n",
        "# Afficher le DataFrame pivoté\n",
        "print(\"DataFrame pivoté:\")\n",
        "print(importation_exportation_poulets2021)\n"
      ],
      "metadata": {
        "colab": {
          "base_uri": "https://localhost:8080/"
        },
        "id": "dmNIKJqMVR7U",
        "outputId": "657fb755-9b6f-4e1c-e41d-dceb4576868e"
      },
      "execution_count": 31,
      "outputs": [
        {
          "output_type": "stream",
          "name": "stdout",
          "text": [
            "DataFrame pivoté:\n",
            "Type_Élément  Code zone (M49)                                    Zone  \\\n",
            "0                           4                             Afghanistan   \n",
            "1                           8                                 Albanie   \n",
            "2                          12                                 Algérie   \n",
            "3                          24                                  Angola   \n",
            "4                          28                      Antigua-et-Barbuda   \n",
            "..                        ...                                     ...   \n",
            "182                       860                             Ouzbékistan   \n",
            "183                       862  Venezuela (République bolivarienne du)   \n",
            "184                       882                                   Samoa   \n",
            "185                       887                                   Yémen   \n",
            "186                       894                                  Zambie   \n",
            "\n",
            "Type_Élément  Exportations - Quantité  Exportations - Valeur  \\\n",
            "0                                 0.0                    0.0   \n",
            "1                                 NaN                    NaN   \n",
            "2                                 NaN                    NaN   \n",
            "3                                 0.0                    0.0   \n",
            "4                                 0.0                 2000.0   \n",
            "..                                ...                    ...   \n",
            "182                         7322000.0              4691000.0   \n",
            "183                               NaN                    NaN   \n",
            "184                               NaN                    NaN   \n",
            "185                               NaN                    NaN   \n",
            "186                         1584000.0             10420000.0   \n",
            "\n",
            "Type_Élément  Importations - Quantité  Importations - Valeur  \n",
            "0                          12470000.0              5526000.0  \n",
            "1                            565000.0              4756000.0  \n",
            "2                           5489000.0             27315000.0  \n",
            "3                            243000.0              1015000.0  \n",
            "4                              3000.0               100000.0  \n",
            "..                                ...                    ...  \n",
            "182                         2380000.0             13323000.0  \n",
            "183                            8000.0              4880000.0  \n",
            "184                           73000.0               259000.0  \n",
            "185                          280000.0             17186000.0  \n",
            "186                          508000.0              5404000.0  \n",
            "\n",
            "[187 rows x 6 columns]\n"
          ]
        }
      ]
    },
    {
      "cell_type": "code",
      "source": [
        "# renommer les colonnes\n",
        "importation_exportation_poulets2021 = importation_exportation_poulets2021.rename(columns={'Exportations - Quantité':'Exportations(P) - Quantité',\n",
        "                                                                                          'Importations - Quantité':'Importations(P) - Quantité',\n",
        "                                                                                          'Importations - Valeur':'Importations(P) - Valeur',\n",
        "                                                                                          'Exportations - Valeur':'Exportations(P) - Valeur',\n",
        "})"
      ],
      "metadata": {
        "id": "5Ue8DaxSk562"
      },
      "execution_count": 32,
      "outputs": []
    },
    {
      "cell_type": "code",
      "source": [
        "print(importation_exportation_poulets2021.head())"
      ],
      "metadata": {
        "colab": {
          "base_uri": "https://localhost:8080/"
        },
        "id": "Vo072-rbl4gK",
        "outputId": "e3ba7dc2-d534-44af-db5a-cbc80919e2d0"
      },
      "execution_count": 33,
      "outputs": [
        {
          "output_type": "stream",
          "name": "stdout",
          "text": [
            "Type_Élément  Code zone (M49)                Zone  Exportations(P) - Quantité  \\\n",
            "0                           4         Afghanistan                         0.0   \n",
            "1                           8             Albanie                         NaN   \n",
            "2                          12             Algérie                         NaN   \n",
            "3                          24              Angola                         0.0   \n",
            "4                          28  Antigua-et-Barbuda                         0.0   \n",
            "\n",
            "Type_Élément  Exportations(P) - Valeur  Importations(P) - Quantité  \\\n",
            "0                                  0.0                  12470000.0   \n",
            "1                                  NaN                    565000.0   \n",
            "2                                  NaN                   5489000.0   \n",
            "3                                  0.0                    243000.0   \n",
            "4                               2000.0                      3000.0   \n",
            "\n",
            "Type_Élément  Importations(P) - Valeur  \n",
            "0                            5526000.0  \n",
            "1                            4756000.0  \n",
            "2                           27315000.0  \n",
            "3                            1015000.0  \n",
            "4                             100000.0  \n"
          ]
        }
      ]
    },
    {
      "cell_type": "code",
      "source": [
        "# Recherche des valeurs manquantes\n",
        "valeurs_manquantes = importation_exportation_poulets2021.isnull().sum()\n",
        "print(\"Valeurs manquantes par colonne:\")\n",
        "print(valeurs_manquantes)"
      ],
      "metadata": {
        "colab": {
          "base_uri": "https://localhost:8080/"
        },
        "id": "srUkxvKcf4tl",
        "outputId": "a371ec94-8e19-4bde-d6bc-a4596345e926"
      },
      "execution_count": 34,
      "outputs": [
        {
          "output_type": "stream",
          "name": "stdout",
          "text": [
            "Valeurs manquantes par colonne:\n",
            "Type_Élément\n",
            "Code zone (M49)                0\n",
            "Zone                           0\n",
            "Exportations(P) - Quantité    91\n",
            "Exportations(P) - Valeur      91\n",
            "Importations(P) - Quantité     5\n",
            "Importations(P) - Valeur       5\n",
            "dtype: int64\n"
          ]
        }
      ]
    },
    {
      "cell_type": "code",
      "source": [
        "# remplacer les valeurs manquantes par des zéro\n",
        "importation_exportation_poulets2021 = importation_exportation_poulets2021.fillna(0)"
      ],
      "metadata": {
        "id": "ikDPSPUYYO23"
      },
      "execution_count": 35,
      "outputs": []
    },
    {
      "cell_type": "code",
      "source": [
        "# Recherche des doublons\n",
        "importation_exportation_poulets2021.duplicated().sum()"
      ],
      "metadata": {
        "colab": {
          "base_uri": "https://localhost:8080/"
        },
        "id": "3JSsOyjFgIb-",
        "outputId": "f5d92c3b-a581-45c8-fe22-18fc2212c5b9"
      },
      "execution_count": 36,
      "outputs": [
        {
          "output_type": "execute_result",
          "data": {
            "text/plain": [
              "0"
            ]
          },
          "metadata": {},
          "execution_count": 36
        }
      ]
    },
    {
      "cell_type": "code",
      "source": [
        "# Compter les valeurs uniques pour chaque colonne\n",
        "valeurs_uniques = importation_exportation_poulets2021.nunique()\n",
        "print(\"Valeurs uniques par colonne:\")\n",
        "print(valeurs_uniques)"
      ],
      "metadata": {
        "colab": {
          "base_uri": "https://localhost:8080/"
        },
        "id": "FJYoud5GgULU",
        "outputId": "af6234c1-4ea3-4c09-be71-720380404820"
      },
      "execution_count": 37,
      "outputs": [
        {
          "output_type": "stream",
          "name": "stdout",
          "text": [
            "Valeurs uniques par colonne:\n",
            "Type_Élément\n",
            "Code zone (M49)               187\n",
            "Zone                          187\n",
            "Exportations(P) - Quantité     78\n",
            "Exportations(P) - Valeur       85\n",
            "Importations(P) - Quantité    161\n",
            "Importations(P) - Valeur      179\n",
            "dtype: int64\n"
          ]
        }
      ]
    },
    {
      "cell_type": "markdown",
      "source": [
        "2-4: Analyse exploratoire de fichier dispo_alimentaire"
      ],
      "metadata": {
        "id": "IKs9D2DxE06F"
      }
    },
    {
      "cell_type": "code",
      "source": [
        "# Afficher les premieres lignes de fichier dispo_alimentaire\n",
        "print(dispo_alimentaire.head(100))"
      ],
      "metadata": {
        "colab": {
          "base_uri": "https://localhost:8080/"
        },
        "id": "7xT-mo0uH1ex",
        "outputId": "120d3045-c9a5-4f20-d29e-59213a906a5c"
      },
      "execution_count": 38,
      "outputs": [
        {
          "output_type": "stream",
          "name": "stdout",
          "text": [
            "   Code Domaine                      Domaine  Code zone (M49)  \\\n",
            "0           FBS  Bilans Alimentaires (2010-)                4   \n",
            "1           FBS  Bilans Alimentaires (2010-)                4   \n",
            "2           FBS  Bilans Alimentaires (2010-)                4   \n",
            "3           FBS  Bilans Alimentaires (2010-)                4   \n",
            "4           FBS  Bilans Alimentaires (2010-)                4   \n",
            "..          ...                          ...              ...   \n",
            "95          FBS  Bilans Alimentaires (2010-)               28   \n",
            "96          FBS  Bilans Alimentaires (2010-)               28   \n",
            "97          FBS  Bilans Alimentaires (2010-)               28   \n",
            "98          FBS  Bilans Alimentaires (2010-)               28   \n",
            "99          FBS  Bilans Alimentaires (2010-)               28   \n",
            "\n",
            "                  Zone  Code Élément  \\\n",
            "0          Afghanistan          5511   \n",
            "1          Afghanistan          5611   \n",
            "2          Afghanistan          5072   \n",
            "3          Afghanistan          5301   \n",
            "4          Afghanistan          5170   \n",
            "..                 ...           ...   \n",
            "95  Antigua-et-Barbuda           661   \n",
            "96  Antigua-et-Barbuda           674   \n",
            "97  Antigua-et-Barbuda           671   \n",
            "98  Antigua-et-Barbuda           684   \n",
            "99  Antigua-et-Barbuda           681   \n",
            "\n",
            "                                              Élément Code Produit (FBS)  \\\n",
            "0                                          Production              S2734   \n",
            "1                             Importations - Quantité              S2734   \n",
            "2                                  Variation de stock              S2734   \n",
            "3                            Disponibilité intérieure              S2734   \n",
            "4                                             Résidus              S2734   \n",
            "..                                                ...                ...   \n",
            "95                   Disponibilité alimentaire (Kcal)              S2734   \n",
            "96  Disponibilité de protéines en quantité (g/pers...              S2734   \n",
            "97         Disponibilité de protéines en quantité (t)              S2734   \n",
            "98  Disponibilité de matière grasse en quantité (g...              S2734   \n",
            "99    Disponibilité de matière grasse en quantité (t)              S2734   \n",
            "\n",
            "                Produit  Code année  Année               Unité   Valeur  \\\n",
            "0   Viande de Volailles        2021   2021  Milliers de tonnes    28.00   \n",
            "1   Viande de Volailles        2021   2021  Milliers de tonnes    33.00   \n",
            "2   Viande de Volailles        2021   2021  Milliers de tonnes     0.00   \n",
            "3   Viande de Volailles        2021   2021  Milliers de tonnes    61.00   \n",
            "4   Viande de Volailles        2021   2021  Milliers de tonnes     0.00   \n",
            "..                  ...         ...    ...                 ...      ...   \n",
            "95  Viande de Volailles        2021   2021        million kcal  8713.50   \n",
            "96  Viande de Volailles        2021   2021     g/personne/jour    30.72   \n",
            "97  Viande de Volailles        2021   2021              tonnes  1045.21   \n",
            "98  Viande de Volailles        2021   2021     g/personne/jour    14.75   \n",
            "99  Viande de Volailles        2021   2021              tonnes   501.77   \n",
            "\n",
            "   Symbole Description du Symbole  \n",
            "0        I         Valeur imputée  \n",
            "1        I         Valeur imputée  \n",
            "2        I         Valeur imputée  \n",
            "3        I         Valeur imputée  \n",
            "4        I         Valeur imputée  \n",
            "..     ...                    ...  \n",
            "95       I         Valeur imputée  \n",
            "96       E         Valeur estimée  \n",
            "97       I         Valeur imputée  \n",
            "98       E         Valeur estimée  \n",
            "99       I         Valeur imputée  \n",
            "\n",
            "[100 rows x 14 columns]\n"
          ]
        }
      ]
    },
    {
      "cell_type": "code",
      "source": [
        "# Suppression des colonnes inutile\n",
        "# Liste des colonnes à supprimer\n",
        "colonne_a_supprimer_dispo_alimentaire_viande_volailles = ['Code Domaine','Domaine','Code Élément','Code Produit (FBS)','Produit','Code année','Année','Symbole','Description du Symbole']"
      ],
      "metadata": {
        "id": "4bESQzF39yrM"
      },
      "execution_count": 39,
      "outputs": []
    },
    {
      "cell_type": "code",
      "source": [
        "# Suppression des colonnes\n",
        "dispo_alimentaire_viande_volailles_2021 = dispo_alimentaire.drop(columns=colonne_a_supprimer_dispo_alimentaire_viande_volailles)\n",
        "print(dispo_alimentaire_viande_volailles_2021.head())"
      ],
      "metadata": {
        "colab": {
          "base_uri": "https://localhost:8080/"
        },
        "id": "oYMQnESD-6VZ",
        "outputId": "51f57dda-f877-4127-c1f9-3bd3235a216c"
      },
      "execution_count": 40,
      "outputs": [
        {
          "output_type": "stream",
          "name": "stdout",
          "text": [
            "   Code zone (M49)         Zone                   Élément               Unité  \\\n",
            "0                4  Afghanistan                Production  Milliers de tonnes   \n",
            "1                4  Afghanistan   Importations - Quantité  Milliers de tonnes   \n",
            "2                4  Afghanistan        Variation de stock  Milliers de tonnes   \n",
            "3                4  Afghanistan  Disponibilité intérieure  Milliers de tonnes   \n",
            "4                4  Afghanistan                   Résidus  Milliers de tonnes   \n",
            "\n",
            "   Valeur  \n",
            "0    28.0  \n",
            "1    33.0  \n",
            "2     0.0  \n",
            "3    61.0  \n",
            "4     0.0  \n"
          ]
        }
      ]
    },
    {
      "cell_type": "code",
      "source": [
        "# Afficher les valeurs uniques de la colonne 'Élément'\n",
        "elements_uniques = dispo_alimentaire_viande_volailles_2021['Élément'].unique()\n",
        "\n",
        "print(\"Différents éléments de la colonne 'Élément':\")\n",
        "print(elements_uniques)\n"
      ],
      "metadata": {
        "colab": {
          "base_uri": "https://localhost:8080/"
        },
        "id": "3Xtr7mRjChtK",
        "outputId": "0428ed69-6a0a-4a63-9ac5-04935b356717"
      },
      "execution_count": 41,
      "outputs": [
        {
          "output_type": "stream",
          "name": "stdout",
          "text": [
            "Différents éléments de la colonne 'Élément':\n",
            "['Production' 'Importations - Quantité' 'Variation de stock'\n",
            " 'Disponibilité intérieure' 'Résidus' 'Nourriture'\n",
            " 'Disponibilité alimentaire en quantité (kg/personne/an)'\n",
            " 'Disponibilité alimentaire (Kcal/personne/jour)'\n",
            " 'Disponibilité alimentaire (Kcal)'\n",
            " 'Disponibilité de protéines en quantité (g/personne/jour)'\n",
            " 'Disponibilité de protéines en quantité (t)'\n",
            " 'Disponibilité de matière grasse en quantité (g/personne/jour)'\n",
            " 'Disponibilité de matière grasse en quantité (t)'\n",
            " 'Exportations - Quantité' 'Traitement'\n",
            " 'Autres utilisations (non alimentaire)' 'Alimentation pour touristes'\n",
            " 'Pertes']\n"
          ]
        }
      ]
    },
    {
      "cell_type": "code",
      "source": [
        "# Liste des valeurs spécifiques de la colonne 'Élément' à garder\n",
        "elements_a_garder = ['Production', 'Importations - Quantité', 'Exportations - Quantité',  'Disponibilité alimentaire (Kcal/personne/jour)']"
      ],
      "metadata": {
        "id": "WWPWhDEEch0l"
      },
      "execution_count": 42,
      "outputs": []
    },
    {
      "cell_type": "code",
      "source": [
        "# Filtrer les lignes du DataFrame\n",
        "dispo_alimentaire_viande_de_volailles_2021 = dispo_alimentaire_viande_volailles_2021[dispo_alimentaire_viande_volailles_2021['Élément'].isin(elements_a_garder)]\n",
        "\n",
        "# Afficher le DataFrame filtré\n",
        "print(\"DataFrame filtré:\")\n",
        "print(dispo_alimentaire_viande_de_volailles_2021)"
      ],
      "metadata": {
        "colab": {
          "base_uri": "https://localhost:8080/"
        },
        "id": "L8DytIUXejwY",
        "outputId": "8273f810-fb4b-4d15-cb16-66a95a32e49e"
      },
      "execution_count": 43,
      "outputs": [
        {
          "output_type": "stream",
          "name": "stdout",
          "text": [
            "DataFrame filtré:\n",
            "      Code zone (M49)            Zone  \\\n",
            "0                   4     Afghanistan   \n",
            "1                   4     Afghanistan   \n",
            "7                   4     Afghanistan   \n",
            "13                710  Afrique du Sud   \n",
            "14                710  Afrique du Sud   \n",
            "...               ...             ...   \n",
            "2647              894          Zambie   \n",
            "2652              894          Zambie   \n",
            "2658              716        Zimbabwe   \n",
            "2659              716        Zimbabwe   \n",
            "2665              716        Zimbabwe   \n",
            "\n",
            "                                             Élément               Unité  \\\n",
            "0                                         Production  Milliers de tonnes   \n",
            "1                            Importations - Quantité  Milliers de tonnes   \n",
            "7     Disponibilité alimentaire (Kcal/personne/jour)  Kcal/personne/jour   \n",
            "13                                        Production  Milliers de tonnes   \n",
            "14                           Importations - Quantité  Milliers de tonnes   \n",
            "...                                              ...                 ...   \n",
            "2647                         Exportations - Quantité  Milliers de tonnes   \n",
            "2652  Disponibilité alimentaire (Kcal/personne/jour)  Kcal/personne/jour   \n",
            "2658                                      Production  Milliers de tonnes   \n",
            "2659                         Importations - Quantité  Milliers de tonnes   \n",
            "2665  Disponibilité alimentaire (Kcal/personne/jour)  Kcal/personne/jour   \n",
            "\n",
            "       Valeur  \n",
            "0       28.00  \n",
            "1       33.00  \n",
            "7        5.77  \n",
            "13    1922.00  \n",
            "14     372.00  \n",
            "...       ...  \n",
            "2647     9.00  \n",
            "2652    12.21  \n",
            "2658   113.00  \n",
            "2659     4.00  \n",
            "2665    27.67  \n",
            "\n",
            "[697 rows x 5 columns]\n"
          ]
        }
      ]
    },
    {
      "cell_type": "code",
      "source": [
        "# Pivotage des données pour transformer les types d'éléments en colonnes\n",
        "dispo_alimentaire_viande_de_volailles_2021 = dispo_alimentaire_viande_de_volailles_2021.pivot_table(index=['Code zone (M49)', 'Zone'],\n",
        "                          columns='Élément',\n",
        "                          values='Valeur',\n",
        "                          aggfunc='sum').reset_index()\n",
        "\n",
        "# Afficher le DataFrame pivoté\n",
        "print(\"DataFrame pivoté:\")\n",
        "print(dispo_alimentaire_viande_de_volailles_2021)"
      ],
      "metadata": {
        "colab": {
          "base_uri": "https://localhost:8080/"
        },
        "id": "anpEufi-fqDs",
        "outputId": "2509d7d4-e86c-4158-eb0a-15a1627dc017"
      },
      "execution_count": 44,
      "outputs": [
        {
          "output_type": "stream",
          "name": "stdout",
          "text": [
            "DataFrame pivoté:\n",
            "Élément  Code zone (M49)                                    Zone  \\\n",
            "0                      4                             Afghanistan   \n",
            "1                      8                                 Albanie   \n",
            "2                     12                                 Algérie   \n",
            "3                     24                                  Angola   \n",
            "4                     28                      Antigua-et-Barbuda   \n",
            "..                   ...                                     ...   \n",
            "181                  860                             Ouzbékistan   \n",
            "182                  862  Venezuela (République bolivarienne du)   \n",
            "183                  882                                   Samoa   \n",
            "184                  887                                   Yémen   \n",
            "185                  894                                  Zambie   \n",
            "\n",
            "Élément  Disponibilité alimentaire (Kcal/personne/jour)  \\\n",
            "0                                                  5.77   \n",
            "1                                                 83.92   \n",
            "2                                                 22.05   \n",
            "3                                                 31.21   \n",
            "4                                                256.09   \n",
            "..                                                  ...   \n",
            "181                                               21.92   \n",
            "182                                               61.81   \n",
            "183                                              281.91   \n",
            "184                                               40.50   \n",
            "185                                               12.21   \n",
            "\n",
            "Élément  Exportations - Quantité  Importations - Quantité  Production  \n",
            "0                            NaN                     33.0        28.0  \n",
            "1                            0.0                     48.0        14.0  \n",
            "2                            0.0                      0.0       258.0  \n",
            "3                            0.0                    246.0        40.0  \n",
            "4                            0.0                      7.0         0.0  \n",
            "..                           ...                      ...         ...  \n",
            "181                          0.0                     97.0       124.0  \n",
            "182                          NaN                     17.0       442.0  \n",
            "183                          0.0                     21.0         0.0  \n",
            "184                          NaN                    148.0       206.0  \n",
            "185                          9.0                     20.0        52.0  \n",
            "\n",
            "[186 rows x 6 columns]\n"
          ]
        }
      ]
    },
    {
      "cell_type": "code",
      "source": [
        "# renommage des colonnes\n",
        "dispo_alimentaire_viande_de_volailles_2021 = dispo_alimentaire_viande_de_volailles_2021.rename(columns={\n",
        "    'Production': 'Production(v)',\n",
        "    'Importations - Quantité': 'Importations(v) - quantité',\n",
        "    'Exportations - Quantité': 'Exportations(v) - quantité',\n",
        "    'Disponibilité alimentaire (Kcal/personne/jour)': 'Disponibilité alimentaire(v)(Kcal/personne/jour)'\n",
        "})\n"
      ],
      "metadata": {
        "id": "PFSR-kmmjD02"
      },
      "execution_count": 45,
      "outputs": []
    },
    {
      "cell_type": "code",
      "source": [
        "print(dispo_alimentaire_viande_de_volailles_2021.head())"
      ],
      "metadata": {
        "colab": {
          "base_uri": "https://localhost:8080/"
        },
        "id": "9rS-C7BDoZGD",
        "outputId": "1ec0cf4e-24eb-48b4-f667-8f0896ea3b78"
      },
      "execution_count": 46,
      "outputs": [
        {
          "output_type": "stream",
          "name": "stdout",
          "text": [
            "Élément  Code zone (M49)                Zone  \\\n",
            "0                      4         Afghanistan   \n",
            "1                      8             Albanie   \n",
            "2                     12             Algérie   \n",
            "3                     24              Angola   \n",
            "4                     28  Antigua-et-Barbuda   \n",
            "\n",
            "Élément  Disponibilité alimentaire(v)(Kcal/personne/jour)  \\\n",
            "0                                                    5.77   \n",
            "1                                                   83.92   \n",
            "2                                                   22.05   \n",
            "3                                                   31.21   \n",
            "4                                                  256.09   \n",
            "\n",
            "Élément  Exportations(v) - quantité  Importations(v) - quantité  Production(v)  \n",
            "0                               NaN                        33.0           28.0  \n",
            "1                               0.0                        48.0           14.0  \n",
            "2                               0.0                         0.0          258.0  \n",
            "3                               0.0                       246.0           40.0  \n",
            "4                               0.0                         7.0            0.0  \n"
          ]
        }
      ]
    },
    {
      "cell_type": "code",
      "source": [
        "# Recherche des valeurs manquantes\n",
        "valeurs_manquantes = dispo_alimentaire_viande_de_volailles_2021.isnull().sum()\n",
        "print(\"Valeurs manquantes par colonne:\")\n",
        "print(valeurs_manquantes)"
      ],
      "metadata": {
        "colab": {
          "base_uri": "https://localhost:8080/"
        },
        "id": "h4INexdlB3Y7",
        "outputId": "d9cd5a42-7d93-426f-a681-a59aa47d2b9b"
      },
      "execution_count": 47,
      "outputs": [
        {
          "output_type": "stream",
          "name": "stdout",
          "text": [
            "Valeurs manquantes par colonne:\n",
            "Élément\n",
            "Code zone (M49)                                      0\n",
            "Zone                                                 0\n",
            "Disponibilité alimentaire(v)(Kcal/personne/jour)     0\n",
            "Exportations(v) - quantité                          45\n",
            "Importations(v) - quantité                           0\n",
            "Production(v)                                        2\n",
            "dtype: int64\n"
          ]
        }
      ]
    },
    {
      "cell_type": "code",
      "source": [
        "# Filtrer les pays avec Production(v) manquant (null)\n",
        "missing_production =  dispo_alimentaire_viande_de_volailles_2021[ dispo_alimentaire_viande_de_volailles_2021['Production(v)'].isnull()]\n",
        "\n",
        "# Afficher les pays avec Production(v) manquant\n",
        "print(missing_production[['Zone', 'Production(v)']])"
      ],
      "metadata": {
        "colab": {
          "base_uri": "https://localhost:8080/"
        },
        "id": "lvLCGxg4cG-Q",
        "outputId": "8bc8ce45-7e51-40ae-e68d-7376521ec3f6"
      },
      "execution_count": 48,
      "outputs": [
        {
          "output_type": "stream",
          "name": "stdout",
          "text": [
            "Élément      Zone  Production(v)\n",
            "58       Djibouti            NaN\n",
            "104      Maldives            NaN\n"
          ]
        }
      ]
    },
    {
      "cell_type": "code",
      "source": [
        "# Remplacer les valeurs manquantes avec les données correctes trouvées\n",
        "dispo_alimentaire_viande_de_volailles_2021.loc[dispo_alimentaire_viande_de_volailles_2021['Zone'] == 'Djibouti', 'Production(v)'] = 16.88"
      ],
      "metadata": {
        "id": "Ubj-l2Idv-VU"
      },
      "execution_count": 49,
      "outputs": []
    },
    {
      "cell_type": "code",
      "source": [
        "# remplacer les valeurs manquantes par des zéro\n",
        "dispo_alimentaire_viande_de_volailles_2021 = dispo_alimentaire_viande_de_volailles_2021.fillna(0)"
      ],
      "metadata": {
        "id": "VrDaJLDRj9K6"
      },
      "execution_count": 50,
      "outputs": []
    },
    {
      "cell_type": "code",
      "source": [
        "# Recherche des doublons\n",
        "dispo_alimentaire_viande_de_volailles_2021.duplicated().sum()"
      ],
      "metadata": {
        "colab": {
          "base_uri": "https://localhost:8080/"
        },
        "id": "PeWy7s9tCFlO",
        "outputId": "9be223b0-5aa6-4181-fb93-7d172f51a460"
      },
      "execution_count": 51,
      "outputs": [
        {
          "output_type": "execute_result",
          "data": {
            "text/plain": [
              "0"
            ]
          },
          "metadata": {},
          "execution_count": 51
        }
      ]
    },
    {
      "cell_type": "code",
      "source": [
        "# Compter les valeurs uniques pour chaque colonne\n",
        "valeurs_uniques =dispo_alimentaire_viande_de_volailles_2021.nunique()\n",
        "print(\"Valeurs uniques par colonne:\")\n",
        "print(valeurs_uniques)"
      ],
      "metadata": {
        "colab": {
          "base_uri": "https://localhost:8080/"
        },
        "id": "-lVBP2DxCQGP",
        "outputId": "dd787bb9-4491-4480-db32-a6b981c734c6"
      },
      "execution_count": 52,
      "outputs": [
        {
          "output_type": "stream",
          "name": "stdout",
          "text": [
            "Valeurs uniques par colonne:\n",
            "Élément\n",
            "Code zone (M49)                                     186\n",
            "Zone                                                186\n",
            "Disponibilité alimentaire(v)(Kcal/personne/jour)    186\n",
            "Exportations(v) - quantité                           57\n",
            "Importations(v) - quantité                          101\n",
            "Production(v)                                       129\n",
            "dtype: int64\n"
          ]
        }
      ]
    },
    {
      "cell_type": "markdown",
      "source": [
        "# Etape 3: Jointure"
      ],
      "metadata": {
        "id": "7naGk7Y3FDGu"
      }
    },
    {
      "cell_type": "code",
      "source": [
        "# Effectuer la jointure entre les dataframes\n",
        "result1 = pd.merge(population_2021, stabilité_politique_2021, on=['Code zone (M49)', 'Zone'], how='outer')\n",
        "result2 = pd.merge(result1, importation_exportation_poulets2021, on=['Code zone (M49)', 'Zone'], how='outer')\n",
        "final_merged_data = pd.merge(result2, dispo_alimentaire_viande_de_volailles_2021, on=['Code zone (M49)', 'Zone'], how='outer')"
      ],
      "metadata": {
        "id": "Z3DaDWf_nr2S"
      },
      "execution_count": 53,
      "outputs": []
    },
    {
      "cell_type": "code",
      "source": [
        "final_merged_data.head()"
      ],
      "metadata": {
        "colab": {
          "base_uri": "https://localhost:8080/",
          "height": 278
        },
        "id": "fHcQBbagqCA-",
        "outputId": "00048fb6-09ef-450c-9b8e-d7a6da7f2d3d"
      },
      "execution_count": 54,
      "outputs": [
        {
          "output_type": "execute_result",
          "data": {
            "text/plain": [
              "   Code zone (M49)            Zone  Population totale  \\\n",
              "0                4     Afghanistan         40099462.0   \n",
              "1              710  Afrique du Sud         59392255.0   \n",
              "2                8         Albanie          2854710.0   \n",
              "3               12         Algérie         44177969.0   \n",
              "4              276       Allemagne         83408554.0   \n",
              "\n",
              "   Indice de stabilité politique  Exportations(P) - Quantité  \\\n",
              "0                          -2.53                         0.0   \n",
              "1                          -0.71                   6451000.0   \n",
              "2                           0.11                         0.0   \n",
              "3                          -0.88                         0.0   \n",
              "4                           0.76                 255995000.0   \n",
              "\n",
              "   Exportations(P) - Valeur  Importations(P) - Quantité  \\\n",
              "0                       0.0                  12470000.0   \n",
              "1                 9855000.0                    487000.0   \n",
              "2                       0.0                    565000.0   \n",
              "3                       0.0                   5489000.0   \n",
              "4               516765000.0                 138707000.0   \n",
              "\n",
              "   Importations(P) - Valeur  Disponibilité alimentaire(v)(Kcal/personne/jour)  \\\n",
              "0                 5526000.0                                              5.77   \n",
              "1                11856000.0                                            167.07   \n",
              "2                 4756000.0                                             83.92   \n",
              "3                27315000.0                                             22.05   \n",
              "4               189016000.0                                             65.07   \n",
              "\n",
              "   Exportations(v) - quantité  Importations(v) - quantité  Production(v)  \n",
              "0                         0.0                        33.0           28.0  \n",
              "1                        47.0                       372.0         1922.0  \n",
              "2                         0.0                        48.0           14.0  \n",
              "3                         0.0                         0.0          258.0  \n",
              "4                       586.0                       768.0         1546.0  "
            ],
            "text/html": [
              "\n",
              "  <div id=\"df-da9afeae-22d3-4546-ba04-2d571646cc1e\" class=\"colab-df-container\">\n",
              "    <div>\n",
              "<style scoped>\n",
              "    .dataframe tbody tr th:only-of-type {\n",
              "        vertical-align: middle;\n",
              "    }\n",
              "\n",
              "    .dataframe tbody tr th {\n",
              "        vertical-align: top;\n",
              "    }\n",
              "\n",
              "    .dataframe thead th {\n",
              "        text-align: right;\n",
              "    }\n",
              "</style>\n",
              "<table border=\"1\" class=\"dataframe\">\n",
              "  <thead>\n",
              "    <tr style=\"text-align: right;\">\n",
              "      <th></th>\n",
              "      <th>Code zone (M49)</th>\n",
              "      <th>Zone</th>\n",
              "      <th>Population totale</th>\n",
              "      <th>Indice de stabilité politique</th>\n",
              "      <th>Exportations(P) - Quantité</th>\n",
              "      <th>Exportations(P) - Valeur</th>\n",
              "      <th>Importations(P) - Quantité</th>\n",
              "      <th>Importations(P) - Valeur</th>\n",
              "      <th>Disponibilité alimentaire(v)(Kcal/personne/jour)</th>\n",
              "      <th>Exportations(v) - quantité</th>\n",
              "      <th>Importations(v) - quantité</th>\n",
              "      <th>Production(v)</th>\n",
              "    </tr>\n",
              "  </thead>\n",
              "  <tbody>\n",
              "    <tr>\n",
              "      <th>0</th>\n",
              "      <td>4</td>\n",
              "      <td>Afghanistan</td>\n",
              "      <td>40099462.0</td>\n",
              "      <td>-2.53</td>\n",
              "      <td>0.0</td>\n",
              "      <td>0.0</td>\n",
              "      <td>12470000.0</td>\n",
              "      <td>5526000.0</td>\n",
              "      <td>5.77</td>\n",
              "      <td>0.0</td>\n",
              "      <td>33.0</td>\n",
              "      <td>28.0</td>\n",
              "    </tr>\n",
              "    <tr>\n",
              "      <th>1</th>\n",
              "      <td>710</td>\n",
              "      <td>Afrique du Sud</td>\n",
              "      <td>59392255.0</td>\n",
              "      <td>-0.71</td>\n",
              "      <td>6451000.0</td>\n",
              "      <td>9855000.0</td>\n",
              "      <td>487000.0</td>\n",
              "      <td>11856000.0</td>\n",
              "      <td>167.07</td>\n",
              "      <td>47.0</td>\n",
              "      <td>372.0</td>\n",
              "      <td>1922.0</td>\n",
              "    </tr>\n",
              "    <tr>\n",
              "      <th>2</th>\n",
              "      <td>8</td>\n",
              "      <td>Albanie</td>\n",
              "      <td>2854710.0</td>\n",
              "      <td>0.11</td>\n",
              "      <td>0.0</td>\n",
              "      <td>0.0</td>\n",
              "      <td>565000.0</td>\n",
              "      <td>4756000.0</td>\n",
              "      <td>83.92</td>\n",
              "      <td>0.0</td>\n",
              "      <td>48.0</td>\n",
              "      <td>14.0</td>\n",
              "    </tr>\n",
              "    <tr>\n",
              "      <th>3</th>\n",
              "      <td>12</td>\n",
              "      <td>Algérie</td>\n",
              "      <td>44177969.0</td>\n",
              "      <td>-0.88</td>\n",
              "      <td>0.0</td>\n",
              "      <td>0.0</td>\n",
              "      <td>5489000.0</td>\n",
              "      <td>27315000.0</td>\n",
              "      <td>22.05</td>\n",
              "      <td>0.0</td>\n",
              "      <td>0.0</td>\n",
              "      <td>258.0</td>\n",
              "    </tr>\n",
              "    <tr>\n",
              "      <th>4</th>\n",
              "      <td>276</td>\n",
              "      <td>Allemagne</td>\n",
              "      <td>83408554.0</td>\n",
              "      <td>0.76</td>\n",
              "      <td>255995000.0</td>\n",
              "      <td>516765000.0</td>\n",
              "      <td>138707000.0</td>\n",
              "      <td>189016000.0</td>\n",
              "      <td>65.07</td>\n",
              "      <td>586.0</td>\n",
              "      <td>768.0</td>\n",
              "      <td>1546.0</td>\n",
              "    </tr>\n",
              "  </tbody>\n",
              "</table>\n",
              "</div>\n",
              "    <div class=\"colab-df-buttons\">\n",
              "\n",
              "  <div class=\"colab-df-container\">\n",
              "    <button class=\"colab-df-convert\" onclick=\"convertToInteractive('df-da9afeae-22d3-4546-ba04-2d571646cc1e')\"\n",
              "            title=\"Convert this dataframe to an interactive table.\"\n",
              "            style=\"display:none;\">\n",
              "\n",
              "  <svg xmlns=\"http://www.w3.org/2000/svg\" height=\"24px\" viewBox=\"0 -960 960 960\">\n",
              "    <path d=\"M120-120v-720h720v720H120Zm60-500h600v-160H180v160Zm220 220h160v-160H400v160Zm0 220h160v-160H400v160ZM180-400h160v-160H180v160Zm440 0h160v-160H620v160ZM180-180h160v-160H180v160Zm440 0h160v-160H620v160Z\"/>\n",
              "  </svg>\n",
              "    </button>\n",
              "\n",
              "  <style>\n",
              "    .colab-df-container {\n",
              "      display:flex;\n",
              "      gap: 12px;\n",
              "    }\n",
              "\n",
              "    .colab-df-convert {\n",
              "      background-color: #E8F0FE;\n",
              "      border: none;\n",
              "      border-radius: 50%;\n",
              "      cursor: pointer;\n",
              "      display: none;\n",
              "      fill: #1967D2;\n",
              "      height: 32px;\n",
              "      padding: 0 0 0 0;\n",
              "      width: 32px;\n",
              "    }\n",
              "\n",
              "    .colab-df-convert:hover {\n",
              "      background-color: #E2EBFA;\n",
              "      box-shadow: 0px 1px 2px rgba(60, 64, 67, 0.3), 0px 1px 3px 1px rgba(60, 64, 67, 0.15);\n",
              "      fill: #174EA6;\n",
              "    }\n",
              "\n",
              "    .colab-df-buttons div {\n",
              "      margin-bottom: 4px;\n",
              "    }\n",
              "\n",
              "    [theme=dark] .colab-df-convert {\n",
              "      background-color: #3B4455;\n",
              "      fill: #D2E3FC;\n",
              "    }\n",
              "\n",
              "    [theme=dark] .colab-df-convert:hover {\n",
              "      background-color: #434B5C;\n",
              "      box-shadow: 0px 1px 3px 1px rgba(0, 0, 0, 0.15);\n",
              "      filter: drop-shadow(0px 1px 2px rgba(0, 0, 0, 0.3));\n",
              "      fill: #FFFFFF;\n",
              "    }\n",
              "  </style>\n",
              "\n",
              "    <script>\n",
              "      const buttonEl =\n",
              "        document.querySelector('#df-da9afeae-22d3-4546-ba04-2d571646cc1e button.colab-df-convert');\n",
              "      buttonEl.style.display =\n",
              "        google.colab.kernel.accessAllowed ? 'block' : 'none';\n",
              "\n",
              "      async function convertToInteractive(key) {\n",
              "        const element = document.querySelector('#df-da9afeae-22d3-4546-ba04-2d571646cc1e');\n",
              "        const dataTable =\n",
              "          await google.colab.kernel.invokeFunction('convertToInteractive',\n",
              "                                                    [key], {});\n",
              "        if (!dataTable) return;\n",
              "\n",
              "        const docLinkHtml = 'Like what you see? Visit the ' +\n",
              "          '<a target=\"_blank\" href=https://colab.research.google.com/notebooks/data_table.ipynb>data table notebook</a>'\n",
              "          + ' to learn more about interactive tables.';\n",
              "        element.innerHTML = '';\n",
              "        dataTable['output_type'] = 'display_data';\n",
              "        await google.colab.output.renderOutput(dataTable, element);\n",
              "        const docLink = document.createElement('div');\n",
              "        docLink.innerHTML = docLinkHtml;\n",
              "        element.appendChild(docLink);\n",
              "      }\n",
              "    </script>\n",
              "  </div>\n",
              "\n",
              "\n",
              "<div id=\"df-29e1a50e-06a3-478c-a3e0-e073c5ab0bd2\">\n",
              "  <button class=\"colab-df-quickchart\" onclick=\"quickchart('df-29e1a50e-06a3-478c-a3e0-e073c5ab0bd2')\"\n",
              "            title=\"Suggest charts\"\n",
              "            style=\"display:none;\">\n",
              "\n",
              "<svg xmlns=\"http://www.w3.org/2000/svg\" height=\"24px\"viewBox=\"0 0 24 24\"\n",
              "     width=\"24px\">\n",
              "    <g>\n",
              "        <path d=\"M19 3H5c-1.1 0-2 .9-2 2v14c0 1.1.9 2 2 2h14c1.1 0 2-.9 2-2V5c0-1.1-.9-2-2-2zM9 17H7v-7h2v7zm4 0h-2V7h2v10zm4 0h-2v-4h2v4z\"/>\n",
              "    </g>\n",
              "</svg>\n",
              "  </button>\n",
              "\n",
              "<style>\n",
              "  .colab-df-quickchart {\n",
              "      --bg-color: #E8F0FE;\n",
              "      --fill-color: #1967D2;\n",
              "      --hover-bg-color: #E2EBFA;\n",
              "      --hover-fill-color: #174EA6;\n",
              "      --disabled-fill-color: #AAA;\n",
              "      --disabled-bg-color: #DDD;\n",
              "  }\n",
              "\n",
              "  [theme=dark] .colab-df-quickchart {\n",
              "      --bg-color: #3B4455;\n",
              "      --fill-color: #D2E3FC;\n",
              "      --hover-bg-color: #434B5C;\n",
              "      --hover-fill-color: #FFFFFF;\n",
              "      --disabled-bg-color: #3B4455;\n",
              "      --disabled-fill-color: #666;\n",
              "  }\n",
              "\n",
              "  .colab-df-quickchart {\n",
              "    background-color: var(--bg-color);\n",
              "    border: none;\n",
              "    border-radius: 50%;\n",
              "    cursor: pointer;\n",
              "    display: none;\n",
              "    fill: var(--fill-color);\n",
              "    height: 32px;\n",
              "    padding: 0;\n",
              "    width: 32px;\n",
              "  }\n",
              "\n",
              "  .colab-df-quickchart:hover {\n",
              "    background-color: var(--hover-bg-color);\n",
              "    box-shadow: 0 1px 2px rgba(60, 64, 67, 0.3), 0 1px 3px 1px rgba(60, 64, 67, 0.15);\n",
              "    fill: var(--button-hover-fill-color);\n",
              "  }\n",
              "\n",
              "  .colab-df-quickchart-complete:disabled,\n",
              "  .colab-df-quickchart-complete:disabled:hover {\n",
              "    background-color: var(--disabled-bg-color);\n",
              "    fill: var(--disabled-fill-color);\n",
              "    box-shadow: none;\n",
              "  }\n",
              "\n",
              "  .colab-df-spinner {\n",
              "    border: 2px solid var(--fill-color);\n",
              "    border-color: transparent;\n",
              "    border-bottom-color: var(--fill-color);\n",
              "    animation:\n",
              "      spin 1s steps(1) infinite;\n",
              "  }\n",
              "\n",
              "  @keyframes spin {\n",
              "    0% {\n",
              "      border-color: transparent;\n",
              "      border-bottom-color: var(--fill-color);\n",
              "      border-left-color: var(--fill-color);\n",
              "    }\n",
              "    20% {\n",
              "      border-color: transparent;\n",
              "      border-left-color: var(--fill-color);\n",
              "      border-top-color: var(--fill-color);\n",
              "    }\n",
              "    30% {\n",
              "      border-color: transparent;\n",
              "      border-left-color: var(--fill-color);\n",
              "      border-top-color: var(--fill-color);\n",
              "      border-right-color: var(--fill-color);\n",
              "    }\n",
              "    40% {\n",
              "      border-color: transparent;\n",
              "      border-right-color: var(--fill-color);\n",
              "      border-top-color: var(--fill-color);\n",
              "    }\n",
              "    60% {\n",
              "      border-color: transparent;\n",
              "      border-right-color: var(--fill-color);\n",
              "    }\n",
              "    80% {\n",
              "      border-color: transparent;\n",
              "      border-right-color: var(--fill-color);\n",
              "      border-bottom-color: var(--fill-color);\n",
              "    }\n",
              "    90% {\n",
              "      border-color: transparent;\n",
              "      border-bottom-color: var(--fill-color);\n",
              "    }\n",
              "  }\n",
              "</style>\n",
              "\n",
              "  <script>\n",
              "    async function quickchart(key) {\n",
              "      const quickchartButtonEl =\n",
              "        document.querySelector('#' + key + ' button');\n",
              "      quickchartButtonEl.disabled = true;  // To prevent multiple clicks.\n",
              "      quickchartButtonEl.classList.add('colab-df-spinner');\n",
              "      try {\n",
              "        const charts = await google.colab.kernel.invokeFunction(\n",
              "            'suggestCharts', [key], {});\n",
              "      } catch (error) {\n",
              "        console.error('Error during call to suggestCharts:', error);\n",
              "      }\n",
              "      quickchartButtonEl.classList.remove('colab-df-spinner');\n",
              "      quickchartButtonEl.classList.add('colab-df-quickchart-complete');\n",
              "    }\n",
              "    (() => {\n",
              "      let quickchartButtonEl =\n",
              "        document.querySelector('#df-29e1a50e-06a3-478c-a3e0-e073c5ab0bd2 button');\n",
              "      quickchartButtonEl.style.display =\n",
              "        google.colab.kernel.accessAllowed ? 'block' : 'none';\n",
              "    })();\n",
              "  </script>\n",
              "</div>\n",
              "\n",
              "    </div>\n",
              "  </div>\n"
            ],
            "application/vnd.google.colaboratory.intrinsic+json": {
              "type": "dataframe",
              "variable_name": "final_merged_data",
              "summary": "{\n  \"name\": \"final_merged_data\",\n  \"rows\": 235,\n  \"fields\": [\n    {\n      \"column\": \"Code zone (M49)\",\n      \"properties\": {\n        \"dtype\": \"number\",\n        \"std\": 251,\n        \"min\": 4,\n        \"max\": 894,\n        \"num_unique_values\": 235,\n        \"samples\": [\n          246,\n          706,\n          408\n        ],\n        \"semantic_type\": \"\",\n        \"description\": \"\"\n      }\n    },\n    {\n      \"column\": \"Zone\",\n      \"properties\": {\n        \"dtype\": \"string\",\n        \"num_unique_values\": 235,\n        \"samples\": [\n          \"Finlande\",\n          \"Somalie\",\n          \"R\\u00e9publique populaire d\\u00e9mocratique de Cor\\u00e9e\"\n        ],\n        \"semantic_type\": \"\",\n        \"description\": \"\"\n      }\n    },\n    {\n      \"column\": \"Population totale\",\n      \"properties\": {\n        \"dtype\": \"number\",\n        \"std\": 164652168.3349824,\n        \"min\": 511.0,\n        \"max\": 1457934562.0,\n        \"num_unique_values\": 235,\n        \"samples\": [\n          5535992.0,\n          17065581.0,\n          25971909.0\n        ],\n        \"semantic_type\": \"\",\n        \"description\": \"\"\n      }\n    },\n    {\n      \"column\": \"Indice de stabilit\\u00e9 politique\",\n      \"properties\": {\n        \"dtype\": \"number\",\n        \"std\": 0.9936681208431243,\n        \"min\": -2.68,\n        \"max\": 1.88,\n        \"num_unique_values\": 145,\n        \"samples\": [\n          -0.14,\n          1.28,\n          1.17\n        ],\n        \"semantic_type\": \"\",\n        \"description\": \"\"\n      }\n    },\n    {\n      \"column\": \"Exportations(P) - Quantit\\u00e9\",\n      \"properties\": {\n        \"dtype\": \"number\",\n        \"std\": 36293497.07107292,\n        \"min\": 0.0,\n        \"max\": 353559000.0,\n        \"num_unique_values\": 78,\n        \"samples\": [\n          291000.0,\n          0.0,\n          108000.0\n        ],\n        \"semantic_type\": \"\",\n        \"description\": \"\"\n      }\n    },\n    {\n      \"column\": \"Exportations(P) - Valeur\",\n      \"properties\": {\n        \"dtype\": \"number\",\n        \"std\": 58540512.22332752,\n        \"min\": 0.0,\n        \"max\": 516765000.0,\n        \"num_unique_values\": 85,\n        \"samples\": [\n          19000.0,\n          0.0,\n          514000.0\n        ],\n        \"semantic_type\": \"\",\n        \"description\": \"\"\n      }\n    },\n    {\n      \"column\": \"Importations(P) - Quantit\\u00e9\",\n      \"properties\": {\n        \"dtype\": \"number\",\n        \"std\": 33686308.82098041,\n        \"min\": 0.0,\n        \"max\": 383520000.0,\n        \"num_unique_values\": 161,\n        \"samples\": [\n          142000.0,\n          440000.0,\n          400000.0\n        ],\n        \"semantic_type\": \"\",\n        \"description\": \"\"\n      }\n    },\n    {\n      \"column\": \"Importations(P) - Valeur\",\n      \"properties\": {\n        \"dtype\": \"number\",\n        \"std\": 59345801.49596268,\n        \"min\": 0.0,\n        \"max\": 730446000.0,\n        \"num_unique_values\": 179,\n        \"samples\": [\n          4790000.0,\n          11026000.0,\n          4972000.0\n        ],\n        \"semantic_type\": \"\",\n        \"description\": \"\"\n      }\n    },\n    {\n      \"column\": \"Disponibilit\\u00e9 alimentaire(v)(Kcal/personne/jour)\",\n      \"properties\": {\n        \"dtype\": \"number\",\n        \"std\": 68.83488583832671,\n        \"min\": 1.78,\n        \"max\": 310.47,\n        \"num_unique_values\": 186,\n        \"samples\": [\n          70.74,\n          39.86,\n          1.78\n        ],\n        \"semantic_type\": \"\",\n        \"description\": \"\"\n      }\n    },\n    {\n      \"column\": \"Exportations(v) - quantit\\u00e9\",\n      \"properties\": {\n        \"dtype\": \"number\",\n        \"std\": 465.2518582459168,\n        \"min\": 0.0,\n        \"max\": 4367.0,\n        \"num_unique_values\": 57,\n        \"samples\": [\n          0.0,\n          50.0,\n          280.0\n        ],\n        \"semantic_type\": \"\",\n        \"description\": \"\"\n      }\n    },\n    {\n      \"column\": \"Importations(v) - quantit\\u00e9\",\n      \"properties\": {\n        \"dtype\": \"number\",\n        \"std\": 250.96489899768056,\n        \"min\": 0.0,\n        \"max\": 2075.0,\n        \"num_unique_values\": 101,\n        \"samples\": [\n          51.0,\n          118.0,\n          50.0\n        ],\n        \"semantic_type\": \"\",\n        \"description\": \"\"\n      }\n    },\n    {\n      \"column\": \"Production(v)\",\n      \"properties\": {\n        \"dtype\": \"number\",\n        \"std\": 3245.873530019591,\n        \"min\": 0.0,\n        \"max\": 24618.0,\n        \"num_unique_values\": 129,\n        \"samples\": [\n          147.0,\n          148.0,\n          19.0\n        ],\n        \"semantic_type\": \"\",\n        \"description\": \"\"\n      }\n    }\n  ]\n}"
            }
          },
          "metadata": {},
          "execution_count": 54
        }
      ]
    },
    {
      "cell_type": "code",
      "source": [
        "# Vérifier les doublons\n",
        "doublons = final_merged_data.duplicated()\n",
        "print(\"Doublons dans le DataFrame:\")\n",
        "print(final_merged_data[doublons])\n"
      ],
      "metadata": {
        "colab": {
          "base_uri": "https://localhost:8080/"
        },
        "id": "OKgyGDhay0l9",
        "outputId": "a8a6b3bf-67ca-49ac-b867-0c7ff0fafe86"
      },
      "execution_count": 55,
      "outputs": [
        {
          "output_type": "stream",
          "name": "stdout",
          "text": [
            "Doublons dans le DataFrame:\n",
            "Empty DataFrame\n",
            "Columns: [Code zone (M49), Zone, Population totale, Indice de stabilité politique, Exportations(P) - Quantité, Exportations(P) - Valeur, Importations(P) - Quantité, Importations(P) - Valeur, Disponibilité alimentaire(v)(Kcal/personne/jour), Exportations(v) - quantité, Importations(v) - quantité, Production(v)]\n",
            "Index: []\n"
          ]
        }
      ]
    },
    {
      "cell_type": "code",
      "source": [
        "# Afficher les différents types des données\n",
        "print(final_merged_data.dtypes)"
      ],
      "metadata": {
        "colab": {
          "base_uri": "https://localhost:8080/"
        },
        "id": "wMKbcq_u5gKj",
        "outputId": "4e59ea65-d92e-463b-e6a3-4f1f38ce17a6"
      },
      "execution_count": 56,
      "outputs": [
        {
          "output_type": "stream",
          "name": "stdout",
          "text": [
            "Code zone (M49)                                       int64\n",
            "Zone                                                 object\n",
            "Population totale                                   float64\n",
            "Indice de stabilité politique                       float64\n",
            "Exportations(P) - Quantité                          float64\n",
            "Exportations(P) - Valeur                            float64\n",
            "Importations(P) - Quantité                          float64\n",
            "Importations(P) - Valeur                            float64\n",
            "Disponibilité alimentaire(v)(Kcal/personne/jour)    float64\n",
            "Exportations(v) - quantité                          float64\n",
            "Importations(v) - quantité                          float64\n",
            "Production(v)                                       float64\n",
            "dtype: object\n"
          ]
        }
      ]
    },
    {
      "cell_type": "code",
      "source": [
        "# Vérifier les valeurs manquantes par colonne\n",
        "valeurs_manquantes = final_merged_data.isnull().sum()\n",
        "print(\"Valeurs manquantes par colonne:\")\n",
        "print(valeurs_manquantes)\n"
      ],
      "metadata": {
        "colab": {
          "base_uri": "https://localhost:8080/"
        },
        "id": "28IoKI9gzQqT",
        "outputId": "24417b1f-f0bd-46f7-a9ec-900111337480"
      },
      "execution_count": 57,
      "outputs": [
        {
          "output_type": "stream",
          "name": "stdout",
          "text": [
            "Valeurs manquantes par colonne:\n",
            "Code zone (M49)                                      0\n",
            "Zone                                                 0\n",
            "Population totale                                    0\n",
            "Indice de stabilité politique                       39\n",
            "Exportations(P) - Quantité                          48\n",
            "Exportations(P) - Valeur                            48\n",
            "Importations(P) - Quantité                          48\n",
            "Importations(P) - Valeur                            48\n",
            "Disponibilité alimentaire(v)(Kcal/personne/jour)    49\n",
            "Exportations(v) - quantité                          49\n",
            "Importations(v) - quantité                          49\n",
            "Production(v)                                       49\n",
            "dtype: int64\n"
          ]
        }
      ]
    },
    {
      "cell_type": "code",
      "source": [
        "# Remplacer les valeurs manquantes dans les colonnes numériques par 0\n",
        "final_merged_data_cleaned = final_merged_data.fillna(0)"
      ],
      "metadata": {
        "id": "paIr26Po7cqH"
      },
      "execution_count": 58,
      "outputs": []
    },
    {
      "cell_type": "code",
      "source": [
        "# Vérifier les valeurs manquantes après le nettoyage\n",
        "valeurs_manquantes_apres_nettoyage = final_merged_data_cleaned.isnull().sum()\n",
        "print(\"Valeurs manquantes par colonne après nettoyage:\")\n",
        "print(valeurs_manquantes_apres_nettoyage)\n"
      ],
      "metadata": {
        "colab": {
          "base_uri": "https://localhost:8080/"
        },
        "id": "5hx9ykDnLnp8",
        "outputId": "fb52f6cf-08ef-4c0c-cb49-d100827fd84e"
      },
      "execution_count": 59,
      "outputs": [
        {
          "output_type": "stream",
          "name": "stdout",
          "text": [
            "Valeurs manquantes par colonne après nettoyage:\n",
            "Code zone (M49)                                     0\n",
            "Zone                                                0\n",
            "Population totale                                   0\n",
            "Indice de stabilité politique                       0\n",
            "Exportations(P) - Quantité                          0\n",
            "Exportations(P) - Valeur                            0\n",
            "Importations(P) - Quantité                          0\n",
            "Importations(P) - Valeur                            0\n",
            "Disponibilité alimentaire(v)(Kcal/personne/jour)    0\n",
            "Exportations(v) - quantité                          0\n",
            "Importations(v) - quantité                          0\n",
            "Production(v)                                       0\n",
            "dtype: int64\n"
          ]
        }
      ]
    },
    {
      "cell_type": "code",
      "source": [
        "final_merged_data_cleaned.shape"
      ],
      "metadata": {
        "colab": {
          "base_uri": "https://localhost:8080/"
        },
        "id": "DpYmfVVVMPaV",
        "outputId": "b6c471d4-3a57-49f4-f68d-bd7cef5e5881"
      },
      "execution_count": 60,
      "outputs": [
        {
          "output_type": "execute_result",
          "data": {
            "text/plain": [
              "(235, 12)"
            ]
          },
          "metadata": {},
          "execution_count": 60
        }
      ]
    },
    {
      "cell_type": "code",
      "source": [
        "print(\"Valeurs uniques par colonne après jointure:\")\n",
        "print(final_merged_data_cleaned.nunique())\n"
      ],
      "metadata": {
        "colab": {
          "base_uri": "https://localhost:8080/"
        },
        "id": "MOD5PnZUN1FX",
        "outputId": "6a13efb5-26b8-42be-9945-3eb18d4a0e44"
      },
      "execution_count": 61,
      "outputs": [
        {
          "output_type": "stream",
          "name": "stdout",
          "text": [
            "Valeurs uniques par colonne après jointure:\n",
            "Code zone (M49)                                     235\n",
            "Zone                                                235\n",
            "Population totale                                   235\n",
            "Indice de stabilité politique                       145\n",
            "Exportations(P) - Quantité                           78\n",
            "Exportations(P) - Valeur                             85\n",
            "Importations(P) - Quantité                          161\n",
            "Importations(P) - Valeur                            179\n",
            "Disponibilité alimentaire(v)(Kcal/personne/jour)    187\n",
            "Exportations(v) - quantité                           57\n",
            "Importations(v) - quantité                          101\n",
            "Production(v)                                       129\n",
            "dtype: int64\n"
          ]
        }
      ]
    },
    {
      "cell_type": "markdown",
      "source": [
        "# Etape 4: Analyses descriptives"
      ],
      "metadata": {
        "id": "bNfdGW1cGGY_"
      }
    },
    {
      "cell_type": "code",
      "source": [
        "# Statistiques descriptives de base\n",
        "desc_stats = final_merged_data_cleaned.describe()\n",
        "print(\"Statistiques Descriptives de Base:\")\n",
        "print(desc_stats)"
      ],
      "metadata": {
        "colab": {
          "base_uri": "https://localhost:8080/"
        },
        "id": "dyEqtel9vTNs",
        "outputId": "95e48258-72ec-4988-e47b-cae2cc901634"
      },
      "execution_count": 62,
      "outputs": [
        {
          "output_type": "stream",
          "name": "stdout",
          "text": [
            "Statistiques Descriptives de Base:\n",
            "       Code zone (M49)  Population totale  Indice de stabilité politique  \\\n",
            "count       235.000000       2.350000e+02                     235.000000   \n",
            "mean        435.876596       3.985274e+07                      -0.061915   \n",
            "std         251.256598       1.646522e+08                       0.907513   \n",
            "min           4.000000       5.110000e+02                      -2.680000   \n",
            "25%         220.000000       4.266395e+05                      -0.530000   \n",
            "50%         438.000000       5.535992e+06                       0.000000   \n",
            "75%         653.000000       2.200283e+07                       0.650000   \n",
            "max         894.000000       1.457935e+09                       1.880000   \n",
            "\n",
            "       Exportations(P) - Quantité  Exportations(P) - Valeur  \\\n",
            "count                2.350000e+02              2.350000e+02   \n",
            "mean                 7.198732e+06              1.208733e+07   \n",
            "std                  3.256345e+07              5.255171e+07   \n",
            "min                  0.000000e+00              0.000000e+00   \n",
            "25%                  0.000000e+00              0.000000e+00   \n",
            "50%                  0.000000e+00              0.000000e+00   \n",
            "75%                  2.640000e+05              7.485000e+05   \n",
            "max                  3.535590e+08              5.167650e+08   \n",
            "\n",
            "       Importations(P) - Quantité  Importations(P) - Valeur  \\\n",
            "count                2.350000e+02              2.350000e+02   \n",
            "mean                 6.547417e+06              1.266729e+07   \n",
            "std                  3.021664e+07              5.329955e+07   \n",
            "min                  0.000000e+00              0.000000e+00   \n",
            "25%                  1.000000e+03              1.650000e+04   \n",
            "50%                  1.640000e+05              1.310000e+06   \n",
            "75%                  1.945500e+06              8.346000e+06   \n",
            "max                  3.835200e+08              7.304460e+08   \n",
            "\n",
            "       Disponibilité alimentaire(v)(Kcal/personne/jour)  \\\n",
            "count                                        235.000000   \n",
            "mean                                          70.858128   \n",
            "std                                           71.234835   \n",
            "min                                            0.000000   \n",
            "25%                                            6.090000   \n",
            "50%                                           57.290000   \n",
            "75%                                          103.890000   \n",
            "max                                          310.470000   \n",
            "\n",
            "       Exportations(v) - quantité  Importations(v) - quantité  Production(v)  \n",
            "count                  235.000000                  235.000000     235.000000  \n",
            "mean                    82.255319                   83.012766     691.348426  \n",
            "std                    415.839377                  227.195320    2907.912554  \n",
            "min                      0.000000                    0.000000       0.000000  \n",
            "25%                      0.000000                    0.000000       0.000000  \n",
            "50%                      0.000000                   10.000000      31.000000  \n",
            "75%                      5.000000                   62.500000     216.500000  \n",
            "max                   4367.000000                 2075.000000   24618.000000  \n"
          ]
        }
      ]
    },
    {
      "cell_type": "code",
      "source": [
        "import matplotlib.pyplot as plt\n",
        "import seaborn as sns\n",
        "# Visualisation des box plots pour détecter les outliers\n",
        "plt.figure(figsize=(15, 10))\n",
        "for i, col in enumerate(final_merged_data_cleaned.columns[2:], 1):\n",
        "    plt.subplot(3, 4, i)\n",
        "    sns.boxplot(x=final_merged_data_cleaned[col])\n",
        "    plt.title(f'Box Plot de {col}')\n",
        "plt.tight_layout()\n",
        "plt.show()\n"
      ],
      "metadata": {
        "colab": {
          "base_uri": "https://localhost:8080/",
          "height": 720
        },
        "id": "_G7d3uhIw-7o",
        "outputId": "f605957c-133e-49fd-effe-ff4e64a6b8dc"
      },
      "execution_count": 63,
      "outputs": [
        {
          "output_type": "display_data",
          "data": {
            "text/plain": [
              "<Figure size 1500x1000 with 10 Axes>"
            ],
            "image/png": "[encoded data removed]"
          },
          "metadata": {}
        }
      ]
    },
    {
      "cell_type": "code",
      "source": [
        "# Sélectionner  les  colonnes numériques pour la matrice de corrélation\n",
        "quantitative_vars = final_merged_data_cleaned.select_dtypes(include=['float64'])"
      ],
      "metadata": {
        "id": "5so-Lh01z5dW"
      },
      "execution_count": 64,
      "outputs": []
    },
    {
      "cell_type": "code",
      "source": [
        "# Calcul de la matrice de corrélation\n",
        "corr_matrix = quantitative_vars.corr()\n",
        "\n",
        "# Affichage de la matrice de corrélation\n",
        "print(\"Matrice de Corrélation:\")\n",
        "print(corr_matrix)\n"
      ],
      "metadata": {
        "colab": {
          "base_uri": "https://localhost:8080/"
        },
        "id": "o1Gv6RJM0ZTI",
        "outputId": "6c83aa43-3b45-490e-bb15-2ebb0528f805"
      },
      "execution_count": 65,
      "outputs": [
        {
          "output_type": "stream",
          "name": "stdout",
          "text": [
            "Matrice de Corrélation:\n",
            "                                                  Population totale  \\\n",
            "Population totale                                          1.000000   \n",
            "Indice de stabilité politique                             -0.099893   \n",
            "Exportations(P) - Quantité                                 0.010902   \n",
            "Exportations(P) - Valeur                                   0.055520   \n",
            "Importations(P) - Quantité                                -0.006173   \n",
            "Importations(P) - Valeur                                   0.070675   \n",
            "Disponibilité alimentaire(v)(Kcal/personne/jour)          -0.006057   \n",
            "Exportations(v) - quantité                                 0.235720   \n",
            "Importations(v) - quantité                                 0.592963   \n",
            "Production(v)                                              0.761949   \n",
            "\n",
            "                                                  Indice de stabilité politique  \\\n",
            "Population totale                                                     -0.099893   \n",
            "Indice de stabilité politique                                          1.000000   \n",
            "Exportations(P) - Quantité                                             0.161284   \n",
            "Exportations(P) - Valeur                                               0.142045   \n",
            "Importations(P) - Quantité                                             0.126899   \n",
            "Importations(P) - Valeur                                               0.109981   \n",
            "Disponibilité alimentaire(v)(Kcal/personne/jour)                       0.296987   \n",
            "Exportations(v) - quantité                                             0.016247   \n",
            "Importations(v) - quantité                                             0.037193   \n",
            "Production(v)                                                         -0.031209   \n",
            "\n",
            "                                                  Exportations(P) - Quantité  \\\n",
            "Population totale                                                   0.010902   \n",
            "Indice de stabilité politique                                       0.161284   \n",
            "Exportations(P) - Quantité                                          1.000000   \n",
            "Exportations(P) - Valeur                                            0.892501   \n",
            "Importations(P) - Quantité                                          0.841629   \n",
            "Importations(P) - Valeur                                            0.842827   \n",
            "Disponibilité alimentaire(v)(Kcal/personne/jour)                    0.039561   \n",
            "Exportations(v) - quantité                                          0.344864   \n",
            "Importations(v) - quantité                                          0.294170   \n",
            "Production(v)                                                       0.092718   \n",
            "\n",
            "                                                  Exportations(P) - Valeur  \\\n",
            "Population totale                                                 0.055520   \n",
            "Indice de stabilité politique                                     0.142045   \n",
            "Exportations(P) - Quantité                                        0.892501   \n",
            "Exportations(P) - Valeur                                          1.000000   \n",
            "Importations(P) - Quantité                                        0.664941   \n",
            "Importations(P) - Valeur                                          0.652130   \n",
            "Disponibilité alimentaire(v)(Kcal/personne/jour)                  0.100174   \n",
            "Exportations(v) - quantité                                        0.480975   \n",
            "Importations(v) - quantité                                        0.334506   \n",
            "Production(v)                                                     0.239574   \n",
            "\n",
            "                                                  Importations(P) - Quantité  \\\n",
            "Population totale                                                  -0.006173   \n",
            "Indice de stabilité politique                                       0.126899   \n",
            "Exportations(P) - Quantité                                          0.841629   \n",
            "Exportations(P) - Valeur                                            0.664941   \n",
            "Importations(P) - Quantité                                          1.000000   \n",
            "Importations(P) - Valeur                                            0.954536   \n",
            "Disponibilité alimentaire(v)(Kcal/personne/jour)                   -0.002760   \n",
            "Exportations(v) - quantité                                          0.268341   \n",
            "Importations(v) - quantité                                          0.260176   \n",
            "Production(v)                                                       0.024613   \n",
            "\n",
            "                                                  Importations(P) - Valeur  \\\n",
            "Population totale                                                 0.070675   \n",
            "Indice de stabilité politique                                     0.109981   \n",
            "Exportations(P) - Quantité                                        0.842827   \n",
            "Exportations(P) - Valeur                                          0.652130   \n",
            "Importations(P) - Quantité                                        0.954536   \n",
            "Importations(P) - Valeur                                          1.000000   \n",
            "Disponibilité alimentaire(v)(Kcal/personne/jour)                 -0.000826   \n",
            "Exportations(v) - quantité                                        0.265353   \n",
            "Importations(v) - quantité                                        0.334044   \n",
            "Production(v)                                                     0.094326   \n",
            "\n",
            "                                                  Disponibilité alimentaire(v)(Kcal/personne/jour)  \\\n",
            "Population totale                                                                        -0.006057   \n",
            "Indice de stabilité politique                                                             0.296987   \n",
            "Exportations(P) - Quantité                                                                0.039561   \n",
            "Exportations(P) - Valeur                                                                  0.100174   \n",
            "Importations(P) - Quantité                                                               -0.002760   \n",
            "Importations(P) - Valeur                                                                 -0.000826   \n",
            "Disponibilité alimentaire(v)(Kcal/personne/jour)                                          1.000000   \n",
            "Exportations(v) - quantité                                                                0.184688   \n",
            "Importations(v) - quantité                                                                0.159267   \n",
            "Production(v)                                                                             0.161462   \n",
            "\n",
            "                                                  Exportations(v) - quantité  \\\n",
            "Population totale                                                   0.235720   \n",
            "Indice de stabilité politique                                       0.016247   \n",
            "Exportations(P) - Quantité                                          0.344864   \n",
            "Exportations(P) - Valeur                                            0.480975   \n",
            "Importations(P) - Quantité                                          0.268341   \n",
            "Importations(P) - Valeur                                            0.265353   \n",
            "Disponibilité alimentaire(v)(Kcal/personne/jour)                    0.184688   \n",
            "Exportations(v) - quantité                                          1.000000   \n",
            "Importations(v) - quantité                                          0.183146   \n",
            "Production(v)                                                       0.672585   \n",
            "\n",
            "                                                  Importations(v) - quantité  \\\n",
            "Population totale                                                   0.592963   \n",
            "Indice de stabilité politique                                       0.037193   \n",
            "Exportations(P) - Quantité                                          0.294170   \n",
            "Exportations(P) - Valeur                                            0.334506   \n",
            "Importations(P) - Quantité                                          0.260176   \n",
            "Importations(P) - Valeur                                            0.334044   \n",
            "Disponibilité alimentaire(v)(Kcal/personne/jour)                    0.159267   \n",
            "Exportations(v) - quantité                                          0.183146   \n",
            "Importations(v) - quantité                                          1.000000   \n",
            "Production(v)                                                       0.610132   \n",
            "\n",
            "                                                  Production(v)  \n",
            "Population totale                                      0.761949  \n",
            "Indice de stabilité politique                         -0.031209  \n",
            "Exportations(P) - Quantité                             0.092718  \n",
            "Exportations(P) - Valeur                               0.239574  \n",
            "Importations(P) - Quantité                             0.024613  \n",
            "Importations(P) - Valeur                               0.094326  \n",
            "Disponibilité alimentaire(v)(Kcal/personne/jour)       0.161462  \n",
            "Exportations(v) - quantité                             0.672585  \n",
            "Importations(v) - quantité                             0.610132  \n",
            "Production(v)                                          1.000000  \n"
          ]
        }
      ]
    },
    {
      "cell_type": "code",
      "source": [
        "# Visualisation de la matrice de corrélation\n",
        "plt.figure(figsize=(12, 8))\n",
        "sns.heatmap(corr_matrix, annot=True, cmap='coolwarm', fmt='.2f', linewidths= 0.5)\n",
        "plt.title('Matrice de Corrélation entre les Variables Quantitatives')\n",
        "plt.show()\n"
      ],
      "metadata": {
        "colab": {
          "base_uri": "https://localhost:8080/",
          "height": 887
        },
        "id": "70pCV0VT08r8",
        "outputId": "661ad7f8-fd27-4a98-e3f6-b7591e47377a"
      },
      "execution_count": 66,
      "outputs": [
        {
          "output_type": "display_data",
          "data": {
            "text/plain": [
              "<Figure size 1200x800 with 2 Axes>"
            ],
            "image/png": "[encoded data removed]"
          },
          "metadata": {}
        }
      ]
    },
    {
      "cell_type": "markdown",
      "source": [
        "# Etape 5: Sauvegarder la DataFrame en fichier CSV"
      ],
      "metadata": {
        "id": "ci583fxiGYCZ"
      }
    },
    {
      "cell_type": "code",
      "source": [
        "final_merged_data_cleaned.to_csv('final_merged_data_cleaned.csv', index=False)\n",
        "\n",
        "print(\"La DataFrame a été sauvegardée en tant que fichier CSV.\")\n"
      ],
      "metadata": {
        "colab": {
          "base_uri": "https://localhost:8080/"
        },
        "id": "Ddm3tfB416P_",
        "outputId": "edd46540-0492-4194-fb84-af4a6c7e13e0"
      },
      "execution_count": 67,
      "outputs": [
        {
          "output_type": "stream",
          "name": "stdout",
          "text": [
            "La DataFrame a été sauvegardée en tant que fichier CSV.\n"
          ]
        }
      ]
    }
  ]
}